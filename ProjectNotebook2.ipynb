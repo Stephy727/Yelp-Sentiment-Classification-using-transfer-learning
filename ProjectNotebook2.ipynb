{
 "cells": [
  {
   "cell_type": "markdown",
   "metadata": {},
   "source": [
    "#### Notebook 2 - Retraining using updated labelled data trained from the previous model in Notebook 1 "
   ]
  },
  {
   "cell_type": "markdown",
   "metadata": {},
   "source": [
    "In this notebook,transfer learning in Natural Language Processing is implemented using the FastAI library.\n",
    "The Universal Language Fine-tuning for Text Classification paper is applied to classify the sentiment of Yelp reviews as a 5 star rating. \n",
    "This method helps to achieve relatively good results with not a huge sample of training data\n",
    "The labelled dataset used is 50K samples Yelp reviews"
   ]
  },
  {
   "cell_type": "markdown",
   "metadata": {},
   "source": [
    "To achieve comptutaional backend **Google Colab** was used to implement codes and some of the codes would be specific for implementation in Colab"
   ]
  },
  {
   "cell_type": "code",
   "execution_count": 0,
   "metadata": {
    "colab": {},
    "colab_type": "code",
    "id": "ejlb6pwDK4RZ"
   },
   "outputs": [],
   "source": [
    "from google.colab import drive\n",
    "drive.mount('/content/drive')"
   ]
  },
  {
   "cell_type": "markdown",
   "metadata": {},
   "source": [
    "### Section1 - Loading the libraries"
   ]
  },
  {
   "cell_type": "code",
   "execution_count": 0,
   "metadata": {
    "colab": {},
    "colab_type": "code",
    "id": "yOPmxbYuJDhj"
   },
   "outputs": [],
   "source": [
    "import numpy as np\n",
    "import pandas as pd\n",
    "from fastai import *\n",
    "from fastai.text import *\n",
    "from fastai.vision import *\n",
    "import seaborn as sns\n",
    "from sklearn.model_selection import train_test_split\n",
    "from sklearn.preprocessing import MinMaxScaler\n",
    "import warnings\n",
    "warnings.filterwarnings('ignore')"
   ]
  },
  {
   "cell_type": "markdown",
   "metadata": {},
   "source": [
    "### Section 2 - Reading and Exploring the data"
   ]
  },
  {
   "cell_type": "markdown",
   "metadata": {},
   "source": [
    "Using the updated labelled data with 59,638 labelled data points that are evenly distributed across the 5 sentiments"
   ]
  },
  {
   "cell_type": "code",
   "execution_count": 4,
   "metadata": {
    "colab": {
     "base_uri": "https://localhost:8080/",
     "height": 141
    },
    "colab_type": "code",
    "id": "byUaN63nJgWf",
    "outputId": "7946a1af-dd47-434f-b167-00192789fa4e"
   },
   "outputs": [
    {
     "data": {
      "text/html": [
       "<div>\n",
       "<style scoped>\n",
       "    .dataframe tbody tr th:only-of-type {\n",
       "        vertical-align: middle;\n",
       "    }\n",
       "\n",
       "    .dataframe tbody tr th {\n",
       "        vertical-align: top;\n",
       "    }\n",
       "\n",
       "    .dataframe thead th {\n",
       "        text-align: right;\n",
       "    }\n",
       "</style>\n",
       "<table border=\"1\" class=\"dataframe\">\n",
       "  <thead>\n",
       "    <tr style=\"text-align: right;\">\n",
       "      <th></th>\n",
       "      <th>text</th>\n",
       "      <th>label</th>\n",
       "    </tr>\n",
       "  </thead>\n",
       "  <tbody>\n",
       "    <tr>\n",
       "      <th>0</th>\n",
       "      <td>The new rule is - \\r\\nif you are waiting for a...</td>\n",
       "      <td>4</td>\n",
       "    </tr>\n",
       "    <tr>\n",
       "      <th>1</th>\n",
       "      <td>Flirted with giving this two stars, but that's...</td>\n",
       "      <td>3</td>\n",
       "    </tr>\n",
       "    <tr>\n",
       "      <th>2</th>\n",
       "      <td>I was staying at planet Hollywood across the s...</td>\n",
       "      <td>5</td>\n",
       "    </tr>\n",
       "  </tbody>\n",
       "</table>\n",
       "</div>"
      ],
      "text/plain": [
       "                                                text  label\n",
       "0  The new rule is - \\r\\nif you are waiting for a...      4\n",
       "1  Flirted with giving this two stars, but that's...      3\n",
       "2  I was staying at planet Hollywood across the s...      5"
      ]
     },
     "execution_count": 4,
     "metadata": {
      "tags": []
     },
     "output_type": "execute_result"
    }
   ],
   "source": [
    "data = pd.read_csv('/content/drive/My Drive/Colab Notebooks/updated_labeled_data.csv')\n",
    "data.head(3)"
   ]
  },
  {
   "cell_type": "code",
   "execution_count": 5,
   "metadata": {
    "colab": {
     "base_uri": "https://localhost:8080/",
     "height": 35
    },
    "colab_type": "code",
    "id": "rUgJcUAdsdEf",
    "outputId": "84e760c7-08a1-4a36-94e9-f2521ae6d681"
   },
   "outputs": [
    {
     "name": "stdout",
     "output_type": "stream",
     "text": [
      "59638\n"
     ]
    }
   ],
   "source": [
    "print(len(data))"
   ]
  },
  {
   "cell_type": "code",
   "execution_count": 6,
   "metadata": {
    "colab": {
     "base_uri": "https://localhost:8080/",
     "height": 121
    },
    "colab_type": "code",
    "id": "EHdLEuAmsl2Z",
    "outputId": "ec0a8159-8fd9-4f76-89ce-a5c1607d3bb1"
   },
   "outputs": [
    {
     "data": {
      "text/plain": [
       "1    12024\n",
       "4    12019\n",
       "2    11953\n",
       "5    11830\n",
       "3    11812\n",
       "Name: label, dtype: int64"
      ]
     },
     "execution_count": 6,
     "metadata": {
      "tags": []
     },
     "output_type": "execute_result"
    }
   ],
   "source": [
    "labelall = data['label'].value_counts().index\n",
    "label_count = data['label'].value_counts()\n",
    "label_count"
   ]
  },
  {
   "cell_type": "code",
   "execution_count": 7,
   "metadata": {
    "colab": {
     "base_uri": "https://localhost:8080/",
     "height": 202
    },
    "colab_type": "code",
    "id": "8vGu6zm0J6Ye",
    "outputId": "1f613386-437a-4a38-bbc9-738d651279eb"
   },
   "outputs": [
    {
     "data": {
      "text/html": [
       "<div>\n",
       "<style scoped>\n",
       "    .dataframe tbody tr th:only-of-type {\n",
       "        vertical-align: middle;\n",
       "    }\n",
       "\n",
       "    .dataframe tbody tr th {\n",
       "        vertical-align: top;\n",
       "    }\n",
       "\n",
       "    .dataframe thead th {\n",
       "        text-align: right;\n",
       "    }\n",
       "</style>\n",
       "<table border=\"1\" class=\"dataframe\">\n",
       "  <thead>\n",
       "    <tr style=\"text-align: right;\">\n",
       "      <th></th>\n",
       "      <th>label</th>\n",
       "      <th>text</th>\n",
       "    </tr>\n",
       "  </thead>\n",
       "  <tbody>\n",
       "    <tr>\n",
       "      <th>4298</th>\n",
       "      <td>3</td>\n",
       "      <td>Came here for dinner last night, been here cou...</td>\n",
       "    </tr>\n",
       "    <tr>\n",
       "      <th>5474</th>\n",
       "      <td>1</td>\n",
       "      <td>The service here is very spotty. We arrive and...</td>\n",
       "    </tr>\n",
       "    <tr>\n",
       "      <th>48473</th>\n",
       "      <td>4</td>\n",
       "      <td>The king crab was split not cracked....hot cla...</td>\n",
       "    </tr>\n",
       "    <tr>\n",
       "      <th>52876</th>\n",
       "      <td>4</td>\n",
       "      <td>Big park with a beautiful lake! I've only been...</td>\n",
       "    </tr>\n",
       "    <tr>\n",
       "      <th>54771</th>\n",
       "      <td>1</td>\n",
       "      <td>THIEVES!! If you stay here, do NOT TAKE ANYTHI...</td>\n",
       "    </tr>\n",
       "  </tbody>\n",
       "</table>\n",
       "</div>"
      ],
      "text/plain": [
       "       label                                               text\n",
       "4298       3  Came here for dinner last night, been here cou...\n",
       "5474       1  The service here is very spotty. We arrive and...\n",
       "48473      4  The king crab was split not cracked....hot cla...\n",
       "52876      4  Big park with a beautiful lake! I've only been...\n",
       "54771      1  THIEVES!! If you stay here, do NOT TAKE ANYTHI..."
      ]
     },
     "execution_count": 7,
     "metadata": {
      "tags": []
     },
     "output_type": "execute_result"
    }
   ],
   "source": [
    "#Splitting the data as test train\n",
    "df_train, df_test = train_test_split(data[['label', 'text']], test_size=0.2)\n",
    "df_train = df_train.dropna()\n",
    "df_test = df_test.dropna()\n",
    "df_test.head()"
   ]
  },
  {
   "cell_type": "markdown",
   "metadata": {},
   "source": [
    "In fastai library, the data processing can be done using the from_df method of the TextLMDataBunch. \n",
    "The different steps of preprocessing such as: cleaning, tokenizing, indexing, building vocabulary, etc. are done using this module.\n",
    "\n",
    "The source code of the pre processing steps can be found at \n",
    "https://github.com/fastai/fastai/blob/master/fastai/text/transform.py"
   ]
  },
  {
   "cell_type": "markdown",
   "metadata": {},
   "source": [
    "text.tranform contains the functions that deal behind the scenes with the two main tasks when preparing texts for modelling: tokenization and numericalization.\n",
    "\n",
    "Tokenization splits the raw texts into tokens (which can be words, or punctuation signs...). The most basic way to do this would be to separate according to spaces, but it's possible to be more subtle; for instance, the contractions like \"isn't\" or \"don't\" should be split in [\"is\",\"n't\"] or [\"do\",\"n't\"]. By default fastai will use the powerful spacy tokenizer.\n",
    "\n",
    "Numericalization is easier as it just consists in attributing a unique id to each token and mapping each of those tokens to their respective ids.\n",
    "\n",
    "Ref https://docs.fast.ai/text.transform.html\n",
    "\n",
    "Tokenization step is actually divided in two phases: first, a certain list of rules to the raw texts is applied as preprocessing, then we use the tokenizer to split them in lists of tokens. Combining together those rules, the tok_funcand the lang to process the texts is the role of the Tokenizer class.\n",
    "\n",
    "\n",
    "This preprocessing is for the language model"
   ]
  },
  {
   "cell_type": "code",
   "execution_count": 0,
   "metadata": {
    "colab": {},
    "colab_type": "code",
    "id": "8vC8x0FtJ6-e"
   },
   "outputs": [],
   "source": [
    "data_lm = TextLMDataBunch.from_df('./', df_train, df_test)"
   ]
  },
  {
   "cell_type": "code",
   "execution_count": 9,
   "metadata": {
    "colab": {
     "base_uri": "https://localhost:8080/",
     "height": 364
    },
    "colab_type": "code",
    "id": "SfVONtqEMssq",
    "outputId": "cd8c7a71-7ad6-4638-b9c7-a60641a6125f"
   },
   "outputs": [
    {
     "data": {
      "text/plain": [
       "['xxunk',\n",
       " 'xxpad',\n",
       " 'xxbos',\n",
       " 'xxeos',\n",
       " 'xxfld',\n",
       " 'xxmaj',\n",
       " 'xxup',\n",
       " 'xxrep',\n",
       " 'xxwrep',\n",
       " '.',\n",
       " 'the',\n",
       " ',',\n",
       " 'and',\n",
       " 'i',\n",
       " 'to',\n",
       " 'a',\n",
       " 'was',\n",
       " 'it',\n",
       " 'of',\n",
       " 'for']"
      ]
     },
     "execution_count": 9,
     "metadata": {
      "tags": []
     },
     "output_type": "execute_result"
    }
   ],
   "source": [
    "data_lm.vocab.itos[:20]"
   ]
  },
  {
   "cell_type": "markdown",
   "metadata": {},
   "source": [
    "UNK (xxunk) is for an unknown word (one that isn't present in the current vocabulary)\n",
    "\n",
    "PAD (xxpad) is the token used for padding, if we need to regroup several texts of different lengths in a batch\n",
    "\n",
    "BOS (xxbos) represents the beginning of a text in your dataset\n",
    "\n",
    "FLD (xxfld) is used if you set mark_fields=True in your TokenizeProcessor to separate the different fields of texts (if your texts are loaded from several columns in a dataframe)\n",
    "\n",
    "TK_MAJ (xxmaj) is used to indicate the next word begins with a capital in the original text\n",
    "\n",
    "TK_UP (xxup) is used to indicate the next word is written in all caps in the original text\n",
    "\n",
    "TK_REP (xxrep) is used to indicate the next character is repeated n times in the original text (usage xxrep n {char})\n",
    "\n",
    "TK_WREP(xxwrep) is used to indicate the next word is repeated n times in the original text (usage xxwrep n {word})"
   ]
  },
  {
   "cell_type": "markdown",
   "metadata": {},
   "source": [
    "### Section 3 - NLP model creation and training and fine tuning\n",
    "The main thing here is RNNLearner. There are also some utility functions to help create and update text models.\n",
    "\n",
    "Ref: https://docs.fast.ai/text.learner.html#language_model_learner"
   ]
  },
  {
   "cell_type": "markdown",
   "metadata": {},
   "source": [
    "The achitecture used is AWD_LSTM as proposed in the ULMFiT paper using a pretrained model. the drop_mult is applied to all the dropouts weights of the config as per various architecture. drop_mult=0.5 as per the documentation for AWD_LSTM\n"
   ]
  },
  {
   "cell_type": "code",
   "execution_count": 0,
   "metadata": {
    "colab": {},
    "colab_type": "code",
    "id": "5MiVSKPtMrE_"
   },
   "outputs": [],
   "source": [
    "learn = language_model_learner(data_lm, arch = AWD_LSTM, pretrained = True, drop_mult=0.5)"
   ]
  },
  {
   "cell_type": "markdown",
   "metadata": {},
   "source": [
    "The language model can be tested for a word to see if the sentense formed is reasonable for a given word"
   ]
  },
  {
   "cell_type": "code",
   "execution_count": 11,
   "metadata": {
    "colab": {
     "base_uri": "https://localhost:8080/",
     "height": 55
    },
    "colab_type": "code",
    "id": "vUVE74F8Mn0c",
    "outputId": "0da5011d-dc6f-47d5-be12-a5c3c4ee1584"
   },
   "outputs": [
    {
     "data": {
      "text/plain": [
       "'What a Star Wars \" is about scraping down the devil \\'s roof at all times \" , a reference to the scene of Round Nine Trent near Chester , Thailand , in which Foreigner Guy Henry inherited a priority on the dead rider , hostage ( charging him in chen flames in a hurricane ) and destroying the rest of children ( the crows were mostly forced to run the water speed with \" razor \" ) wings , leading outer yardbirds up to the pole . The viewing'"
      ]
     },
     "execution_count": 11,
     "metadata": {
      "tags": []
     },
     "output_type": "execute_result"
    }
   ],
   "source": [
    "# xxbos token stands for the beggining of a sentence\n",
    "learn.predict('What', 100)"
   ]
  },
  {
   "cell_type": "markdown",
   "metadata": {},
   "source": [
    "lr_find helps to fing a learning rate over iterations\n",
    "Explores from start_lr(1e-07) to end_lr(10) over num_it iterations(100) in learn, stops when loss diverges.\n",
    "\n",
    "Ref https://docs.fast.ai/basic_train.html#lr_find\n",
    "    "
   ]
  },
  {
   "cell_type": "code",
   "execution_count": 12,
   "metadata": {
    "colab": {
     "base_uri": "https://localhost:8080/",
     "height": 297
    },
    "colab_type": "code",
    "id": "sEpHx5rmMn3D",
    "outputId": "fc7b6631-f7c3-46ee-e8d1-044729d64f4f"
   },
   "outputs": [
    {
     "data": {
      "text/html": [],
      "text/plain": [
       "<IPython.core.display.HTML object>"
      ]
     },
     "metadata": {
      "tags": []
     },
     "output_type": "display_data"
    },
    {
     "name": "stdout",
     "output_type": "stream",
     "text": [
      "LR Finder is complete, type {learner_name}.recorder.plot() to see the graph.\n"
     ]
    },
    {
     "data": {
      "image/png": "[encoded data removed]",
      "text/plain": [
       "<Figure size 432x288 with 1 Axes>"
      ]
     },
     "metadata": {
      "tags": []
     },
     "output_type": "display_data"
    }
   ],
   "source": [
    "learn.lr_find()\n",
    "learn.recorder.plot()"
   ]
  },
  {
   "cell_type": "markdown",
   "metadata": {},
   "source": [
    "Firstly only the last softmax layer is fitted as per ULMFiT paper. fit_one_cycle fits a model following the 1cycle policy.\n",
    "\n",
    "Ref https://docs.fast.ai/basic_train.html#fit_one_cycle"
   ]
  },
  {
   "cell_type": "code",
   "execution_count": 13,
   "metadata": {
    "colab": {
     "base_uri": "https://localhost:8080/",
     "height": 79
    },
    "colab_type": "code",
    "id": "ELUvz0SROL-4",
    "outputId": "bb9f91ca-b55f-4ef4-b743-778baa75f09c"
   },
   "outputs": [
    {
     "data": {
      "text/html": [
       "<table border=\"1\" class=\"dataframe\">\n",
       "  <thead>\n",
       "    <tr style=\"text-align: left;\">\n",
       "      <th>epoch</th>\n",
       "      <th>train_loss</th>\n",
       "      <th>valid_loss</th>\n",
       "      <th>accuracy</th>\n",
       "      <th>time</th>\n",
       "    </tr>\n",
       "  </thead>\n",
       "  <tbody>\n",
       "    <tr>\n",
       "      <td>0</td>\n",
       "      <td>4.042343</td>\n",
       "      <td>3.936049</td>\n",
       "      <td>0.314286</td>\n",
       "      <td>15:27</td>\n",
       "    </tr>\n",
       "  </tbody>\n",
       "</table>"
      ],
      "text/plain": [
       "<IPython.core.display.HTML object>"
      ]
     },
     "metadata": {
      "tags": []
     },
     "output_type": "display_data"
    }
   ],
   "source": [
    "# First, fit only the last softmax layer\n",
    "learn.freeze_to(-1)\n",
    "learn.fit_one_cycle(1, 1e-2)"
   ]
  },
  {
   "cell_type": "code",
   "execution_count": 14,
   "metadata": {
    "colab": {
     "base_uri": "https://localhost:8080/",
     "height": 263
    },
    "colab_type": "code",
    "id": "DtsR7gFUOKDj",
    "outputId": "58b6b134-31d1-488a-c561-5c606af40194"
   },
   "outputs": [
    {
     "data": {
      "text/html": [
       "<table border=\"1\" class=\"dataframe\">\n",
       "  <thead>\n",
       "    <tr style=\"text-align: left;\">\n",
       "      <th>epoch</th>\n",
       "      <th>train_loss</th>\n",
       "      <th>valid_loss</th>\n",
       "      <th>accuracy</th>\n",
       "      <th>time</th>\n",
       "    </tr>\n",
       "  </thead>\n",
       "  <tbody>\n",
       "    <tr>\n",
       "      <td>0</td>\n",
       "      <td>3.750097</td>\n",
       "      <td>3.810277</td>\n",
       "      <td>0.328571</td>\n",
       "      <td>18:16</td>\n",
       "    </tr>\n",
       "    <tr>\n",
       "      <td>1</td>\n",
       "      <td>3.671119</td>\n",
       "      <td>3.653999</td>\n",
       "      <td>0.300000</td>\n",
       "      <td>18:13</td>\n",
       "    </tr>\n",
       "    <tr>\n",
       "      <td>2</td>\n",
       "      <td>3.573452</td>\n",
       "      <td>3.737997</td>\n",
       "      <td>0.300000</td>\n",
       "      <td>18:15</td>\n",
       "    </tr>\n",
       "    <tr>\n",
       "      <td>3</td>\n",
       "      <td>3.454936</td>\n",
       "      <td>3.683061</td>\n",
       "      <td>0.328571</td>\n",
       "      <td>18:16</td>\n",
       "    </tr>\n",
       "    <tr>\n",
       "      <td>4</td>\n",
       "      <td>3.350409</td>\n",
       "      <td>3.671488</td>\n",
       "      <td>0.314286</td>\n",
       "      <td>18:16</td>\n",
       "    </tr>\n",
       "    <tr>\n",
       "      <td>5</td>\n",
       "      <td>3.260934</td>\n",
       "      <td>3.677851</td>\n",
       "      <td>0.328571</td>\n",
       "      <td>18:18</td>\n",
       "    </tr>\n",
       "    <tr>\n",
       "      <td>6</td>\n",
       "      <td>3.211943</td>\n",
       "      <td>3.676581</td>\n",
       "      <td>0.328571</td>\n",
       "      <td>18:20</td>\n",
       "    </tr>\n",
       "  </tbody>\n",
       "</table>"
      ],
      "text/plain": [
       "<IPython.core.display.HTML object>"
      ]
     },
     "metadata": {
      "tags": []
     },
     "output_type": "display_data"
    }
   ],
   "source": [
    "# Then unfreeze the model and fit it again\n",
    "learn.unfreeze()\n",
    "#learn.fit_one_cycle(10, 1e-2)\n",
    "learn.fit_one_cycle(7, 1e-3)"
   ]
  },
  {
   "cell_type": "markdown",
   "metadata": {},
   "source": [
    "The above results can be interpretted as the model can predict the next word with an accuracy of 0.32"
   ]
  },
  {
   "cell_type": "code",
   "execution_count": 31,
   "metadata": {
    "colab": {
     "base_uri": "https://localhost:8080/",
     "height": 89
    },
    "colab_type": "code",
    "id": "JEvzasmvOKGp",
    "outputId": "8c132e8e-f29c-4992-c302-1d2fa0afd9bf"
   },
   "outputs": [
    {
     "name": "stdout",
     "output_type": "stream",
     "text": [
      "xxbos Left here unmelted ! The server is superb ! She cut and explained the menu to us as we got our food . \r",
      " \n",
      " \r",
      " \n",
      "  The food here was definitely on the menu . No problems with the meal . i started off with the braised beef swiss offered with a shot of Revision . Boom ... It was a good bite of the trout . Lead me to the second course and the second was disappointment . The fish was slightly mushy and the fish were fresh and filling .\n"
     ]
    }
   ],
   "source": [
    "print(learn.predict('xxbos', n_words=100))"
   ]
  },
  {
   "cell_type": "markdown",
   "metadata": {},
   "source": [
    "We can see the language model now predicts with context to the Yelp dataset as opposed to generic corpus"
   ]
  },
  {
   "cell_type": "code",
   "execution_count": 0,
   "metadata": {
    "colab": {},
    "colab_type": "code",
    "id": "uaRanCdnOKJZ"
   },
   "outputs": [],
   "source": [
    "# Saving the encoder\n",
    "learn.save_encoder('fine_enc')"
   ]
  },
  {
   "cell_type": "markdown",
   "metadata": {},
   "source": [
    "#### Now preprocessing for the classifier model"
   ]
  },
  {
   "cell_type": "code",
   "execution_count": 0,
   "metadata": {
    "colab": {},
    "colab_type": "code",
    "id": "OuFe1wsohVN3"
   },
   "outputs": [],
   "source": [
    "# Preprocess data\n",
    "data_clas = TextClasDataBunch.from_df('./', df_train, df_test, vocab=data_lm.vocab, bs=32)"
   ]
  },
  {
   "cell_type": "code",
   "execution_count": 32,
   "metadata": {
    "colab": {
     "base_uri": "https://localhost:8080/",
     "height": 1000
    },
    "colab_type": "code",
    "id": "fqsNO9PbhVRu",
    "outputId": "cab8bbdc-99b9-49ea-8317-6e3ff73c7232"
   },
   "outputs": [
    {
     "data": {
      "text/plain": [
       "RNNLearner(data=TextClasDataBunch;\n",
       "\n",
       "Train: LabelList (47710 items)\n",
       "x: TextList\n",
       "xxbos xxmaj office staff extremely unprofessional . xxmaj left a message , after 5 days of waiting for a return call , i called again . xxmaj the women who answered the phone , answered the phone laughing , said a person 's name and said \" what do you want ? \" , i said \" excuse me \" , she said you heard me what do you want .,xxbos xxmaj great spot stopped in by myself for a quick early dinner was nice to see the had pizza by the slice all day ( most places stop after lunch ) got a couple slices one sausage one meatball service was fast pizza was great nice and crispy good amount of sauce and cheese and the toppings covered the slice . i will definitely be back again,xxbos xxmaj heard about the place through xxmaj groupon . xxmaj get there and there 's a sign on the door that states they are no longer accepting the xxmaj groupon . xxmaj well that 's great , the old bait and switch , get you in the door , you pay full price . \n",
       " \n",
       " \n",
       " \n",
       "  xxmaj ordered the xxmaj cuban xxmaj coffee , which was great , even came in a little coffee cup adorned with xxmaj cuban flags . xxmaj server was nice enough . i ordered sauteed pork with the con gris and a side of fried yucca and my girlfriend ordered the xxmaj cuban sandwich . \n",
       " \n",
       " \n",
       " \n",
       "  xxmaj here is where it goes wrong . xxmaj everything was luke warm . xxmaj most likely reheated , which was a shame because the con gris was actually good , just cold . xxmaj the pork was the xxunk thing on the planet . i thought i had gotten grissle or something but all of them were like that . xxmaj the fried yucca was not fried enough . xxmaj the fried yucca pieces were huge , never seen that with fried yucca . xxmaj the outside of most pieces were a bit fried but the inside was mush , just like regular yucca . i wanted something more fried . \n",
       " \n",
       " \n",
       " \n",
       "  xxmaj the cuban sandwich was also cold . xxmaj the bread was extremely flaky , again a shame . xxmaj cuban bread is delicious but this was lacking . xxmaj also , the pork was whatever on the sandwich . xxmaj like boiled ham . xxmaj no real flavor . xxmaj if it was warmer , it would not have been so bad . \n",
       " \n",
       " \n",
       " \n",
       "  xxmaj apparently this place has live music sometimes , i think that 'd be amazing to see . i ca n't rate it based off the possibility of live music , but if you wanted to check this place out , that would be the time . xxmaj it was n't great .,xxbos xxmaj when bad pizza and service go bad . xxmaj no hot and ready , manager on cell , and does n't give a shit about customer service . xxmaj the cashier had to cut pizza and go straight to register without washing his hands . xxmaj has anybody had this experience before ? \n",
       " \n",
       "  xxmaj the xxmaj little xxmaj caesar xxmaj pizza manager said she spoke to xxmaj mike the owner and that everything was fine . xxmaj she was more concerned about speaking to the owner and making sure she was heard first before filling up the empty warmers with pizza ! \n",
       " \n",
       "  xxmaj michael , please get an employee that cares about your customers . \n",
       " \n",
       "  a couple waited close to five minutes ( while i waited , they were sitting waiting on their pizza before i got there ) for o - n - e pizza . \n",
       " \n",
       "  xxmaj please review your videos from 12:30 to 1 pm .,xxbos xxmaj buffet menu course has been downgraded so bad . \n",
       " \n",
       "  xxmaj sushi bar has really nothing \n",
       " \n",
       "  xxmaj crabs , not even that fresh ? \n",
       " \n",
       "  xxmaj where 's the lobsters ? xxmaj gone ? \n",
       " \n",
       " \n",
       " \n",
       "  i used to love this buffet place and now within too many downgraded and cheapo !\n",
       "y: CategoryList\n",
       "1,5,2,1,1\n",
       "Path: .;\n",
       "\n",
       "Valid: LabelList (11928 items)\n",
       "x: TextList\n",
       "xxbos xxmaj came here for dinner last night , been here couple of times . xxmaj remember the first time being here , the set up looks like the restaurants that i used to go often during my childhood . xxmaj we xxmaj ordered the xxup ayce bbq that you do n't get to choose which meat , we could n't get pass the third dish unfortunately .. xxmaj second time as well . \n",
       " \n",
       " \n",
       " \n",
       "  xxmaj last night was the third time there , ordered the one that you get to choose which meat comes first and it comes with appetizers and soup . xxmaj we were able to eat xxup alot this time . xxmaj honestly , the meats were only okay , all the soup choices were very salty ( you can get more than one but you have to finish one first , same as the meat ) , appetizers we got kimchi pancake , very average . \n",
       " \n",
       " \n",
       " \n",
       "  xxmaj the only best thing about it was their vent system and they cook it for you .,xxbos xxmaj the service here is very spotty . xxmaj we arrive and or our name in and notice 3 table available . xxmaj one party gets sat and the other two are left open and we continue to wait . xxmaj all the while the rest of the patrons start to clear out were kept waiting now with multiple tables open . xxmaj we get sat in the back by the kitchen and service station . xxmaj how annoying , why would you sit a patron in the back by the service station when there 's other tables available ? xxmaj when i worked in the service industry i would apologize to patrons for them having to sit there . xxmaj so now all the traffic of running food and xxunk orders is right in my face . xxmaj the waitress is barking orders at the cook and complaining about her station and another server xxrep 4 . xxmaj very unprofessional if you ask me . xxmaj also the table that was used as the bus station was the table we sat by . xxmaj pretty disappointing to experience this when i make it a point to drive all the way here when i 'm in town . xxmaj not sure if i care to come back .,xxbos xxmaj the king crab was split not cracked xxrep 4 . hot clarified butter xxrep 5 , awesome ! ! ! \n",
       " \n",
       " \n",
       " \n",
       "  xxmaj the xxunk maybe 16 - 20s were peeled on ice and very good . xxmaj good cocktail sauce . \n",
       " \n",
       " \n",
       " \n",
       "  xxmaj sushi was freshly made and good . xxmaj the spicy tuna roll was delicious and very spicy . xxmaj the steak tartare on toast point seriously kicked butt . \n",
       " \n",
       " \n",
       " \n",
       "  xxmaj the salmon with bbq maple glaze = good , beef bourguignon = very good , cous cous and xxunk very good , xxunk = mmm . \n",
       " \n",
       " \n",
       " \n",
       "  xxmaj the xxmaj kobe sirloin not was too tough to eat . i used to raise xxmaj wagyu cattle by the way . i have had a few ( tons ) of it for comparison . \n",
       " \n",
       " \n",
       " \n",
       "  xxmaj the desserts were excellent especially the xxunk chocolate mousse thing shooter . \n",
       " \n",
       " \n",
       " \n",
       "  xxmaj so far this is the best buffet i have had in xxmaj vegas and was a great deal for 32 bucks . i still have to try the xxmaj wynn and xxmaj wicked xxmaj spoon . \n",
       " \n",
       " \n",
       " \n",
       "  xxmaj our server was also great .,xxbos xxmaj big park with a beautiful lake ! i 've only been during the day but i bet it 's even more beautiful during sunset . xxmaj there 's a couple picnic tables by the lake - perfect for picnics ! i 'm not sure if the dock is always open to the public , but take advantage of sitting out there if it is !,xxbos xxup thieves ! ! xxmaj if you stay here , do xxup not xxup take xxup anything xxup of xxup value xxup with xxup you . \n",
       " \n",
       " \n",
       " \n",
       "  xxmaj do not stay here . xxmaj the cleaning staff stole my earrings , which were xxup safely tucked away in my jewelry case in a special pocket -- meaning the housekeeper who stole them had to be xxunk through my bags pretty throughly . xxmaj the case was in the bathroom . i was staying here for work for a week , and therefore was gone at least 8 hours of the day . xxmaj when i discovered my earrings were gone , i contacted the hotel manager who was questioning my story , saying \" that employee has been here for ten years , \" as some type of excuse not to question or fire that housekeeper . xxmaj not only were they rude and condescending about the missing large xxunk stone stud earrings , but they did n't offer me any type of compensation . i 'll never stay in this hotel again .\n",
       "y: CategoryList\n",
       "3,1,4,4,1\n",
       "Path: .;\n",
       "\n",
       "Test: None, model=SequentialRNN(\n",
       "  (0): MultiBatchEncoder(\n",
       "    (module): AWD_LSTM(\n",
       "      (encoder): Embedding(34248, 400, padding_idx=1)\n",
       "      (encoder_dp): EmbeddingDropout(\n",
       "        (emb): Embedding(34248, 400, padding_idx=1)\n",
       "      )\n",
       "      (rnns): ModuleList(\n",
       "        (0): WeightDropout(\n",
       "          (module): LSTM(400, 1152, batch_first=True)\n",
       "        )\n",
       "        (1): WeightDropout(\n",
       "          (module): LSTM(1152, 1152, batch_first=True)\n",
       "        )\n",
       "        (2): WeightDropout(\n",
       "          (module): LSTM(1152, 400, batch_first=True)\n",
       "        )\n",
       "      )\n",
       "      (input_dp): RNNDropout()\n",
       "      (hidden_dps): ModuleList(\n",
       "        (0): RNNDropout()\n",
       "        (1): RNNDropout()\n",
       "        (2): RNNDropout()\n",
       "      )\n",
       "    )\n",
       "  )\n",
       "  (1): PoolingLinearClassifier(\n",
       "    (layers): Sequential(\n",
       "      (0): BatchNorm1d(1200, eps=1e-05, momentum=0.1, affine=True, track_running_stats=True)\n",
       "      (1): Dropout(p=0.2, inplace=False)\n",
       "      (2): Linear(in_features=1200, out_features=50, bias=True)\n",
       "      (3): ReLU(inplace=True)\n",
       "      (4): BatchNorm1d(50, eps=1e-05, momentum=0.1, affine=True, track_running_stats=True)\n",
       "      (5): Dropout(p=0.1, inplace=False)\n",
       "      (6): Linear(in_features=50, out_features=5, bias=True)\n",
       "    )\n",
       "  )\n",
       "), opt_func=functools.partial(<class 'torch.optim.adam.Adam'>, betas=(0.9, 0.99)), loss_func=FlattenedLoss of CrossEntropyLoss(), metrics=[<function accuracy at 0x7f7cc2f7c048>], true_wd=True, bn_wd=True, wd=0.01, train_bn=True, path=PosixPath('.'), model_dir='models', callback_fns=[functools.partial(<class 'fastai.basic_train.Recorder'>, add_time=True, silent=False)], callbacks=[RNNTrainer\n",
       "learn: RNNLearner(data=TextClasDataBunch;\n",
       "\n",
       "Train: LabelList (47710 items)\n",
       "x: TextList\n",
       "xxbos xxmaj office staff extremely unprofessional . xxmaj left a message , after 5 days of waiting for a return call , i called again . xxmaj the women who answered the phone , answered the phone laughing , said a person 's name and said \" what do you want ? \" , i said \" excuse me \" , she said you heard me what do you want .,xxbos xxmaj great spot stopped in by myself for a quick early dinner was nice to see the had pizza by the slice all day ( most places stop after lunch ) got a couple slices one sausage one meatball service was fast pizza was great nice and crispy good amount of sauce and cheese and the toppings covered the slice . i will definitely be back again,xxbos xxmaj heard about the place through xxmaj groupon . xxmaj get there and there 's a sign on the door that states they are no longer accepting the xxmaj groupon . xxmaj well that 's great , the old bait and switch , get you in the door , you pay full price . \n",
       " \n",
       " \n",
       " \n",
       "  xxmaj ordered the xxmaj cuban xxmaj coffee , which was great , even came in a little coffee cup adorned with xxmaj cuban flags . xxmaj server was nice enough . i ordered sauteed pork with the con gris and a side of fried yucca and my girlfriend ordered the xxmaj cuban sandwich . \n",
       " \n",
       " \n",
       " \n",
       "  xxmaj here is where it goes wrong . xxmaj everything was luke warm . xxmaj most likely reheated , which was a shame because the con gris was actually good , just cold . xxmaj the pork was the xxunk thing on the planet . i thought i had gotten grissle or something but all of them were like that . xxmaj the fried yucca was not fried enough . xxmaj the fried yucca pieces were huge , never seen that with fried yucca . xxmaj the outside of most pieces were a bit fried but the inside was mush , just like regular yucca . i wanted something more fried . \n",
       " \n",
       " \n",
       " \n",
       "  xxmaj the cuban sandwich was also cold . xxmaj the bread was extremely flaky , again a shame . xxmaj cuban bread is delicious but this was lacking . xxmaj also , the pork was whatever on the sandwich . xxmaj like boiled ham . xxmaj no real flavor . xxmaj if it was warmer , it would not have been so bad . \n",
       " \n",
       " \n",
       " \n",
       "  xxmaj apparently this place has live music sometimes , i think that 'd be amazing to see . i ca n't rate it based off the possibility of live music , but if you wanted to check this place out , that would be the time . xxmaj it was n't great .,xxbos xxmaj when bad pizza and service go bad . xxmaj no hot and ready , manager on cell , and does n't give a shit about customer service . xxmaj the cashier had to cut pizza and go straight to register without washing his hands . xxmaj has anybody had this experience before ? \n",
       " \n",
       "  xxmaj the xxmaj little xxmaj caesar xxmaj pizza manager said she spoke to xxmaj mike the owner and that everything was fine . xxmaj she was more concerned about speaking to the owner and making sure she was heard first before filling up the empty warmers with pizza ! \n",
       " \n",
       "  xxmaj michael , please get an employee that cares about your customers . \n",
       " \n",
       "  a couple waited close to five minutes ( while i waited , they were sitting waiting on their pizza before i got there ) for o - n - e pizza . \n",
       " \n",
       "  xxmaj please review your videos from 12:30 to 1 pm .,xxbos xxmaj buffet menu course has been downgraded so bad . \n",
       " \n",
       "  xxmaj sushi bar has really nothing \n",
       " \n",
       "  xxmaj crabs , not even that fresh ? \n",
       " \n",
       "  xxmaj where 's the lobsters ? xxmaj gone ? \n",
       " \n",
       " \n",
       " \n",
       "  i used to love this buffet place and now within too many downgraded and cheapo !\n",
       "y: CategoryList\n",
       "1,5,2,1,1\n",
       "Path: .;\n",
       "\n",
       "Valid: LabelList (11928 items)\n",
       "x: TextList\n",
       "xxbos xxmaj came here for dinner last night , been here couple of times . xxmaj remember the first time being here , the set up looks like the restaurants that i used to go often during my childhood . xxmaj we xxmaj ordered the xxup ayce bbq that you do n't get to choose which meat , we could n't get pass the third dish unfortunately .. xxmaj second time as well . \n",
       " \n",
       " \n",
       " \n",
       "  xxmaj last night was the third time there , ordered the one that you get to choose which meat comes first and it comes with appetizers and soup . xxmaj we were able to eat xxup alot this time . xxmaj honestly , the meats were only okay , all the soup choices were very salty ( you can get more than one but you have to finish one first , same as the meat ) , appetizers we got kimchi pancake , very average . \n",
       " \n",
       " \n",
       " \n",
       "  xxmaj the only best thing about it was their vent system and they cook it for you .,xxbos xxmaj the service here is very spotty . xxmaj we arrive and or our name in and notice 3 table available . xxmaj one party gets sat and the other two are left open and we continue to wait . xxmaj all the while the rest of the patrons start to clear out were kept waiting now with multiple tables open . xxmaj we get sat in the back by the kitchen and service station . xxmaj how annoying , why would you sit a patron in the back by the service station when there 's other tables available ? xxmaj when i worked in the service industry i would apologize to patrons for them having to sit there . xxmaj so now all the traffic of running food and xxunk orders is right in my face . xxmaj the waitress is barking orders at the cook and complaining about her station and another server xxrep 4 . xxmaj very unprofessional if you ask me . xxmaj also the table that was used as the bus station was the table we sat by . xxmaj pretty disappointing to experience this when i make it a point to drive all the way here when i 'm in town . xxmaj not sure if i care to come back .,xxbos xxmaj the king crab was split not cracked xxrep 4 . hot clarified butter xxrep 5 , awesome ! ! ! \n",
       " \n",
       " \n",
       " \n",
       "  xxmaj the xxunk maybe 16 - 20s were peeled on ice and very good . xxmaj good cocktail sauce . \n",
       " \n",
       " \n",
       " \n",
       "  xxmaj sushi was freshly made and good . xxmaj the spicy tuna roll was delicious and very spicy . xxmaj the steak tartare on toast point seriously kicked butt . \n",
       " \n",
       " \n",
       " \n",
       "  xxmaj the salmon with bbq maple glaze = good , beef bourguignon = very good , cous cous and xxunk very good , xxunk = mmm . \n",
       " \n",
       " \n",
       " \n",
       "  xxmaj the xxmaj kobe sirloin not was too tough to eat . i used to raise xxmaj wagyu cattle by the way . i have had a few ( tons ) of it for comparison . \n",
       " \n",
       " \n",
       " \n",
       "  xxmaj the desserts were excellent especially the xxunk chocolate mousse thing shooter . \n",
       " \n",
       " \n",
       " \n",
       "  xxmaj so far this is the best buffet i have had in xxmaj vegas and was a great deal for 32 bucks . i still have to try the xxmaj wynn and xxmaj wicked xxmaj spoon . \n",
       " \n",
       " \n",
       " \n",
       "  xxmaj our server was also great .,xxbos xxmaj big park with a beautiful lake ! i 've only been during the day but i bet it 's even more beautiful during sunset . xxmaj there 's a couple picnic tables by the lake - perfect for picnics ! i 'm not sure if the dock is always open to the public , but take advantage of sitting out there if it is !,xxbos xxup thieves ! ! xxmaj if you stay here , do xxup not xxup take xxup anything xxup of xxup value xxup with xxup you . \n",
       " \n",
       " \n",
       " \n",
       "  xxmaj do not stay here . xxmaj the cleaning staff stole my earrings , which were xxup safely tucked away in my jewelry case in a special pocket -- meaning the housekeeper who stole them had to be xxunk through my bags pretty throughly . xxmaj the case was in the bathroom . i was staying here for work for a week , and therefore was gone at least 8 hours of the day . xxmaj when i discovered my earrings were gone , i contacted the hotel manager who was questioning my story , saying \" that employee has been here for ten years , \" as some type of excuse not to question or fire that housekeeper . xxmaj not only were they rude and condescending about the missing large xxunk stone stud earrings , but they did n't offer me any type of compensation . i 'll never stay in this hotel again .\n",
       "y: CategoryList\n",
       "3,1,4,4,1\n",
       "Path: .;\n",
       "\n",
       "Test: None, model=SequentialRNN(\n",
       "  (0): MultiBatchEncoder(\n",
       "    (module): AWD_LSTM(\n",
       "      (encoder): Embedding(34248, 400, padding_idx=1)\n",
       "      (encoder_dp): EmbeddingDropout(\n",
       "        (emb): Embedding(34248, 400, padding_idx=1)\n",
       "      )\n",
       "      (rnns): ModuleList(\n",
       "        (0): WeightDropout(\n",
       "          (module): LSTM(400, 1152, batch_first=True)\n",
       "        )\n",
       "        (1): WeightDropout(\n",
       "          (module): LSTM(1152, 1152, batch_first=True)\n",
       "        )\n",
       "        (2): WeightDropout(\n",
       "          (module): LSTM(1152, 400, batch_first=True)\n",
       "        )\n",
       "      )\n",
       "      (input_dp): RNNDropout()\n",
       "      (hidden_dps): ModuleList(\n",
       "        (0): RNNDropout()\n",
       "        (1): RNNDropout()\n",
       "        (2): RNNDropout()\n",
       "      )\n",
       "    )\n",
       "  )\n",
       "  (1): PoolingLinearClassifier(\n",
       "    (layers): Sequential(\n",
       "      (0): BatchNorm1d(1200, eps=1e-05, momentum=0.1, affine=True, track_running_stats=True)\n",
       "      (1): Dropout(p=0.2, inplace=False)\n",
       "      (2): Linear(in_features=1200, out_features=50, bias=True)\n",
       "      (3): ReLU(inplace=True)\n",
       "      (4): BatchNorm1d(50, eps=1e-05, momentum=0.1, affine=True, track_running_stats=True)\n",
       "      (5): Dropout(p=0.1, inplace=False)\n",
       "      (6): Linear(in_features=50, out_features=5, bias=True)\n",
       "    )\n",
       "  )\n",
       "), opt_func=functools.partial(<class 'torch.optim.adam.Adam'>, betas=(0.9, 0.99)), loss_func=FlattenedLoss of CrossEntropyLoss(), metrics=[<function accuracy at 0x7f7cc2f7c048>], true_wd=True, bn_wd=True, wd=0.01, train_bn=True, path=PosixPath('.'), model_dir='models', callback_fns=[functools.partial(<class 'fastai.basic_train.Recorder'>, add_time=True, silent=False)], callbacks=[...], layer_groups=[Sequential(\n",
       "  (0): Embedding(34248, 400, padding_idx=1)\n",
       "  (1): EmbeddingDropout(\n",
       "    (emb): Embedding(34248, 400, padding_idx=1)\n",
       "  )\n",
       "), Sequential(\n",
       "  (0): WeightDropout(\n",
       "    (module): LSTM(400, 1152, batch_first=True)\n",
       "  )\n",
       "  (1): RNNDropout()\n",
       "), Sequential(\n",
       "  (0): WeightDropout(\n",
       "    (module): LSTM(1152, 1152, batch_first=True)\n",
       "  )\n",
       "  (1): RNNDropout()\n",
       "), Sequential(\n",
       "  (0): WeightDropout(\n",
       "    (module): LSTM(1152, 400, batch_first=True)\n",
       "  )\n",
       "  (1): RNNDropout()\n",
       "), Sequential(\n",
       "  (0): PoolingLinearClassifier(\n",
       "    (layers): Sequential(\n",
       "      (0): BatchNorm1d(1200, eps=1e-05, momentum=0.1, affine=True, track_running_stats=True)\n",
       "      (1): Dropout(p=0.2, inplace=False)\n",
       "      (2): Linear(in_features=1200, out_features=50, bias=True)\n",
       "      (3): ReLU(inplace=True)\n",
       "      (4): BatchNorm1d(50, eps=1e-05, momentum=0.1, affine=True, track_running_stats=True)\n",
       "      (5): Dropout(p=0.1, inplace=False)\n",
       "      (6): Linear(in_features=50, out_features=5, bias=True)\n",
       "    )\n",
       "  )\n",
       ")], add_time=True, silent=False)\n",
       "alpha: 2.0\n",
       "beta: 1.0], layer_groups=[Sequential(\n",
       "  (0): Embedding(34248, 400, padding_idx=1)\n",
       "  (1): EmbeddingDropout(\n",
       "    (emb): Embedding(34248, 400, padding_idx=1)\n",
       "  )\n",
       "), Sequential(\n",
       "  (0): WeightDropout(\n",
       "    (module): LSTM(400, 1152, batch_first=True)\n",
       "  )\n",
       "  (1): RNNDropout()\n",
       "), Sequential(\n",
       "  (0): WeightDropout(\n",
       "    (module): LSTM(1152, 1152, batch_first=True)\n",
       "  )\n",
       "  (1): RNNDropout()\n",
       "), Sequential(\n",
       "  (0): WeightDropout(\n",
       "    (module): LSTM(1152, 400, batch_first=True)\n",
       "  )\n",
       "  (1): RNNDropout()\n",
       "), Sequential(\n",
       "  (0): PoolingLinearClassifier(\n",
       "    (layers): Sequential(\n",
       "      (0): BatchNorm1d(1200, eps=1e-05, momentum=0.1, affine=True, track_running_stats=True)\n",
       "      (1): Dropout(p=0.2, inplace=False)\n",
       "      (2): Linear(in_features=1200, out_features=50, bias=True)\n",
       "      (3): ReLU(inplace=True)\n",
       "      (4): BatchNorm1d(50, eps=1e-05, momentum=0.1, affine=True, track_running_stats=True)\n",
       "      (5): Dropout(p=0.1, inplace=False)\n",
       "      (6): Linear(in_features=50, out_features=5, bias=True)\n",
       "    )\n",
       "  )\n",
       ")], add_time=True, silent=False)"
      ]
     },
     "execution_count": 32,
     "metadata": {
      "tags": []
     },
     "output_type": "execute_result"
    }
   ],
   "source": [
    "# Build a classifier with the same architechure and weights as the language model trained \n",
    "classifier = text_classifier_learner(data_clas, drop_mult=0.5, arch=AWD_LSTM)\n",
    "classifier.load_encoder('fine_enc')"
   ]
  },
  {
   "cell_type": "code",
   "execution_count": 33,
   "metadata": {
    "colab": {
     "base_uri": "https://localhost:8080/",
     "height": 297
    },
    "colab_type": "code",
    "id": "EzT5o_KPF05q",
    "outputId": "c52882c8-c7ce-4089-8d48-b7fc0c1cfcc4"
   },
   "outputs": [
    {
     "data": {
      "text/html": [],
      "text/plain": [
       "<IPython.core.display.HTML object>"
      ]
     },
     "metadata": {
      "tags": []
     },
     "output_type": "display_data"
    },
    {
     "name": "stdout",
     "output_type": "stream",
     "text": [
      "LR Finder is complete, type {learner_name}.recorder.plot() to see the graph.\n"
     ]
    },
    {
     "data": {
      "image/png": "[encoded data removed]",
      "text/plain": [
       "<Figure size 432x288 with 1 Axes>"
      ]
     },
     "metadata": {
      "tags": []
     },
     "output_type": "display_data"
    }
   ],
   "source": [
    "classifier.lr_find()\n",
    "classifier.recorder.plot()"
   ]
  },
  {
   "cell_type": "code",
   "execution_count": 34,
   "metadata": {
    "colab": {
     "base_uri": "https://localhost:8080/",
     "height": 79
    },
    "colab_type": "code",
    "id": "Y-OcjitLhVan",
    "outputId": "7f9668ff-9928-4bed-dc3c-13a2636fd5c6"
   },
   "outputs": [
    {
     "data": {
      "text/html": [
       "<table border=\"1\" class=\"dataframe\">\n",
       "  <thead>\n",
       "    <tr style=\"text-align: left;\">\n",
       "      <th>epoch</th>\n",
       "      <th>train_loss</th>\n",
       "      <th>valid_loss</th>\n",
       "      <th>accuracy</th>\n",
       "      <th>time</th>\n",
       "    </tr>\n",
       "  </thead>\n",
       "  <tbody>\n",
       "    <tr>\n",
       "      <td>0</td>\n",
       "      <td>0.950095</td>\n",
       "      <td>0.841903</td>\n",
       "      <td>0.643779</td>\n",
       "      <td>08:43</td>\n",
       "    </tr>\n",
       "  </tbody>\n",
       "</table>"
      ],
      "text/plain": [
       "<IPython.core.display.HTML object>"
      ]
     },
     "metadata": {
      "tags": []
     },
     "output_type": "display_data"
    }
   ],
   "source": [
    "classifier.fit_one_cycle(1, 1e-2, moms=(0.8, 0.7))"
   ]
  },
  {
   "cell_type": "code",
   "execution_count": 35,
   "metadata": {
    "colab": {
     "base_uri": "https://localhost:8080/",
     "height": 279
    },
    "colab_type": "code",
    "id": "-6qkDdgrjv4S",
    "outputId": "36bed2a3-d037-4a45-825a-cc658f9ed356"
   },
   "outputs": [
    {
     "data": {
      "image/png": "[encoded data removed]",
      "text/plain": [
       "<Figure size 432x288 with 1 Axes>"
      ]
     },
     "metadata": {
      "tags": []
     },
     "output_type": "display_data"
    }
   ],
   "source": [
    "classifier.recorder.plot_losses()"
   ]
  },
  {
   "cell_type": "markdown",
   "metadata": {},
   "source": [
    "In the below steps the same steps are performed again with the aim of improving accuracy as per the hyperparameter tuning techinques suggested in the ULMFit paper. This includes\n",
    "\n",
    "1.Dicriminative learning rate\n",
    "2.One cycle learning\n",
    "3.Gradual unfreezing\n",
    "\n",
    "The details can be found at https://arxiv.org/pdf/1801.06146.pdf"
   ]
  },
  {
   "cell_type": "code",
   "execution_count": 36,
   "metadata": {
    "colab": {
     "base_uri": "https://localhost:8080/",
     "height": 297
    },
    "colab_type": "code",
    "id": "jtb5Cqjfjv7J",
    "outputId": "b3bc4d98-6e30-4cd9-9e99-da29a17c0474"
   },
   "outputs": [
    {
     "data": {
      "text/html": [],
      "text/plain": [
       "<IPython.core.display.HTML object>"
      ]
     },
     "metadata": {
      "tags": []
     },
     "output_type": "display_data"
    },
    {
     "name": "stdout",
     "output_type": "stream",
     "text": [
      "LR Finder is complete, type {learner_name}.recorder.plot() to see the graph.\n"
     ]
    },
    {
     "data": {
      "image/png": "[encoded data removed]",
      "text/plain": [
       "<Figure size 432x288 with 1 Axes>"
      ]
     },
     "metadata": {
      "tags": []
     },
     "output_type": "display_data"
    }
   ],
   "source": [
    "classifier = text_classifier_learner(data_clas, drop_mult=0.5, arch=AWD_LSTM)\n",
    "classifier.load_encoder('fine_enc')\n",
    "classifier.lr_find()\n",
    "classifier.recorder.plot()"
   ]
  },
  {
   "cell_type": "code",
   "execution_count": 37,
   "metadata": {
    "colab": {
     "base_uri": "https://localhost:8080/",
     "height": 79
    },
    "colab_type": "code",
    "id": "Wx8K_6mtjv-B",
    "outputId": "cd3a4a25-152c-4f84-9ec6-bc44368d3172"
   },
   "outputs": [
    {
     "data": {
      "text/html": [
       "<table border=\"1\" class=\"dataframe\">\n",
       "  <thead>\n",
       "    <tr style=\"text-align: left;\">\n",
       "      <th>epoch</th>\n",
       "      <th>train_loss</th>\n",
       "      <th>valid_loss</th>\n",
       "      <th>accuracy</th>\n",
       "      <th>time</th>\n",
       "    </tr>\n",
       "  </thead>\n",
       "  <tbody>\n",
       "    <tr>\n",
       "      <td>0</td>\n",
       "      <td>0.935236</td>\n",
       "      <td>0.838687</td>\n",
       "      <td>0.649648</td>\n",
       "      <td>08:18</td>\n",
       "    </tr>\n",
       "  </tbody>\n",
       "</table>"
      ],
      "text/plain": [
       "<IPython.core.display.HTML object>"
      ]
     },
     "metadata": {
      "tags": []
     },
     "output_type": "display_data"
    }
   ],
   "source": [
    "classifier.fit_one_cycle(1, slice(1e-4, 1e-2), moms=(0.8, 0.7))"
   ]
  },
  {
   "cell_type": "code",
   "execution_count": 24,
   "metadata": {
    "colab": {
     "base_uri": "https://localhost:8080/",
     "height": 279
    },
    "colab_type": "code",
    "id": "lgiwWN2CjwAi",
    "outputId": "ed70d682-c9a5-4473-ace1-8d2612e7eea3"
   },
   "outputs": [
    {
     "data": {
      "image/png": "[encoded data removed]",
      "text/plain": [
       "<Figure size 864x288 with 2 Axes>"
      ]
     },
     "metadata": {
      "tags": []
     },
     "output_type": "display_data"
    }
   ],
   "source": [
    "classifier.recorder.plot_lr(show_moms=True)"
   ]
  },
  {
   "cell_type": "code",
   "execution_count": 25,
   "metadata": {
    "colab": {
     "base_uri": "https://localhost:8080/",
     "height": 299
    },
    "colab_type": "code",
    "id": "HvofUfrrjwDh",
    "outputId": "1342e492-63e7-4917-acb9-d769f81b8df1"
   },
   "outputs": [
    {
     "data": {
      "text/html": [],
      "text/plain": [
       "<IPython.core.display.HTML object>"
      ]
     },
     "metadata": {
      "tags": []
     },
     "output_type": "display_data"
    },
    {
     "name": "stdout",
     "output_type": "stream",
     "text": [
      "LR Finder is complete, type {learner_name}.recorder.plot() to see the graph.\n"
     ]
    },
    {
     "data": {
      "image/png": "[encoded data removed]",
      "text/plain": [
       "<Figure size 432x288 with 1 Axes>"
      ]
     },
     "metadata": {
      "tags": []
     },
     "output_type": "display_data"
    }
   ],
   "source": [
    "classifier = text_classifier_learner(data_clas, drop_mult=0.5, arch=AWD_LSTM)\n",
    "classifier.load_encoder('fine_enc')\n",
    "classifier.lr_find()\n",
    "classifier.recorder.plot()"
   ]
  },
  {
   "cell_type": "code",
   "execution_count": 26,
   "metadata": {
    "colab": {
     "base_uri": "https://localhost:8080/",
     "height": 79
    },
    "colab_type": "code",
    "id": "vi6ZzH_qjwGi",
    "outputId": "654bdcb5-5a4b-411b-f1cb-4ea1a66dfb91"
   },
   "outputs": [
    {
     "data": {
      "text/html": [
       "<table border=\"1\" class=\"dataframe\">\n",
       "  <thead>\n",
       "    <tr style=\"text-align: left;\">\n",
       "      <th>epoch</th>\n",
       "      <th>train_loss</th>\n",
       "      <th>valid_loss</th>\n",
       "      <th>accuracy</th>\n",
       "      <th>time</th>\n",
       "    </tr>\n",
       "  </thead>\n",
       "  <tbody>\n",
       "    <tr>\n",
       "      <td>0</td>\n",
       "      <td>0.924423</td>\n",
       "      <td>0.842782</td>\n",
       "      <td>0.645791</td>\n",
       "      <td>08:32</td>\n",
       "    </tr>\n",
       "  </tbody>\n",
       "</table>"
      ],
      "text/plain": [
       "<IPython.core.display.HTML object>"
      ]
     },
     "metadata": {
      "tags": []
     },
     "output_type": "display_data"
    }
   ],
   "source": [
    "classifier.freeze_to(-1)\n",
    "classifier.fit_one_cycle(1, 1e-2, moms=(0.8, 0.7))"
   ]
  },
  {
   "cell_type": "code",
   "execution_count": 27,
   "metadata": {
    "colab": {
     "base_uri": "https://localhost:8080/",
     "height": 79
    },
    "colab_type": "code",
    "id": "b_s-0jTXjwJZ",
    "outputId": "914ab1f8-1425-47ed-f2b6-8dd2b2d2ee32"
   },
   "outputs": [
    {
     "data": {
      "text/html": [
       "<table border=\"1\" class=\"dataframe\">\n",
       "  <thead>\n",
       "    <tr style=\"text-align: left;\">\n",
       "      <th>epoch</th>\n",
       "      <th>train_loss</th>\n",
       "      <th>valid_loss</th>\n",
       "      <th>accuracy</th>\n",
       "      <th>time</th>\n",
       "    </tr>\n",
       "  </thead>\n",
       "  <tbody>\n",
       "    <tr>\n",
       "      <td>0</td>\n",
       "      <td>0.872545</td>\n",
       "      <td>0.778669</td>\n",
       "      <td>0.674883</td>\n",
       "      <td>10:09</td>\n",
       "    </tr>\n",
       "  </tbody>\n",
       "</table>"
      ],
      "text/plain": [
       "<IPython.core.display.HTML object>"
      ]
     },
     "metadata": {
      "tags": []
     },
     "output_type": "display_data"
    }
   ],
   "source": [
    "classifier.unfreeze()\n",
    "classifier.freeze_to(-2)\n",
    "classifier.fit_one_cycle(1, slice(1e-4, 5e-3), moms=(0.8, 0.7))"
   ]
  },
  {
   "cell_type": "code",
   "execution_count": 38,
   "metadata": {
    "colab": {
     "base_uri": "https://localhost:8080/",
     "height": 79
    },
    "colab_type": "code",
    "id": "JWWw-boCjwMJ",
    "outputId": "757979f7-57a5-4ffa-c915-a54da2d77a54"
   },
   "outputs": [
    {
     "data": {
      "text/html": [
       "<table border=\"1\" class=\"dataframe\">\n",
       "  <thead>\n",
       "    <tr style=\"text-align: left;\">\n",
       "      <th>epoch</th>\n",
       "      <th>train_loss</th>\n",
       "      <th>valid_loss</th>\n",
       "      <th>accuracy</th>\n",
       "      <th>time</th>\n",
       "    </tr>\n",
       "  </thead>\n",
       "  <tbody>\n",
       "    <tr>\n",
       "      <td>0</td>\n",
       "      <td>0.868384</td>\n",
       "      <td>0.792061</td>\n",
       "      <td>0.668763</td>\n",
       "      <td>18:26</td>\n",
       "    </tr>\n",
       "  </tbody>\n",
       "</table>"
      ],
      "text/plain": [
       "<IPython.core.display.HTML object>"
      ]
     },
     "metadata": {
      "tags": []
     },
     "output_type": "display_data"
    }
   ],
   "source": [
    "classifier.unfreeze()\n",
    "classifier.freeze_to(-3)\n",
    "classifier.fit_one_cycle(1, slice(1e-5, 1e-3), moms=(0.8, 0.7))"
   ]
  },
  {
   "cell_type": "code",
   "execution_count": 39,
   "metadata": {
    "colab": {
     "base_uri": "https://localhost:8080/",
     "height": 79
    },
    "colab_type": "code",
    "id": "HLFa0U9ljwPQ",
    "outputId": "ea04c012-2475-4482-c307-1ba5b45ba7b8"
   },
   "outputs": [
    {
     "data": {
      "text/html": [
       "<table border=\"1\" class=\"dataframe\">\n",
       "  <thead>\n",
       "    <tr style=\"text-align: left;\">\n",
       "      <th>epoch</th>\n",
       "      <th>train_loss</th>\n",
       "      <th>valid_loss</th>\n",
       "      <th>accuracy</th>\n",
       "      <th>time</th>\n",
       "    </tr>\n",
       "  </thead>\n",
       "  <tbody>\n",
       "    <tr>\n",
       "      <td>0</td>\n",
       "      <td>0.860938</td>\n",
       "      <td>0.783969</td>\n",
       "      <td>0.670523</td>\n",
       "      <td>25:26</td>\n",
       "    </tr>\n",
       "  </tbody>\n",
       "</table>"
      ],
      "text/plain": [
       "<IPython.core.display.HTML object>"
      ]
     },
     "metadata": {
      "tags": []
     },
     "output_type": "display_data"
    }
   ],
   "source": [
    "classifier.unfreeze()\n",
    "classifier.fit_one_cycle(1, slice(1e-4/100., 1e-4), moms=(0.8, 0.7))"
   ]
  },
  {
   "cell_type": "markdown",
   "metadata": {},
   "source": [
    "### Section 4 - Results "
   ]
  },
  {
   "cell_type": "code",
   "execution_count": 0,
   "metadata": {
    "colab": {},
    "colab_type": "code",
    "id": "ZOloC7gCjwSZ"
   },
   "outputs": [],
   "source": [
    "preds, y, losses = classifier.get_preds(with_loss=True)\n"
   ]
  },
  {
   "cell_type": "code",
   "execution_count": 0,
   "metadata": {
    "colab": {},
    "colab_type": "code",
    "id": "DESddHho00jD"
   },
   "outputs": [],
   "source": [
    "interp = ClassificationInterpretation(losses=losses, y_true=y, preds=preds, learn=classifier)\n"
   ]
  },
  {
   "cell_type": "code",
   "execution_count": 42,
   "metadata": {
    "colab": {
     "base_uri": "https://localhost:8080/",
     "height": 311
    },
    "colab_type": "code",
    "id": "Bi6rfm9E00lx",
    "outputId": "636802a7-841d-436d-b1dc-883e4b5bf3d8"
   },
   "outputs": [
    {
     "data": {
      "image/png": "[encoded data removed]",
      "text/plain": [
       "<Figure size 432x288 with 1 Axes>"
      ]
     },
     "metadata": {
      "tags": []
     },
     "output_type": "display_data"
    }
   ],
   "source": [
    "interp.plot_confusion_matrix()"
   ]
  },
  {
   "cell_type": "code",
   "execution_count": 43,
   "metadata": {
    "colab": {
     "base_uri": "https://localhost:8080/",
     "height": 641
    },
    "colab_type": "code",
    "id": "egcLO9b2vmET",
    "outputId": "f0740706-6abe-4025-d0bc-ab1f06fe49fa"
   },
   "outputs": [
    {
     "name": "stdout",
     "output_type": "stream",
     "text": [
      "The pool was 10 times dirty \n",
      "=== Predicted: (Category 2, tensor(1), tensor([0.2134, 0.4608, 0.2346, 0.0661, 0.0251]))\n",
      "\n",
      "5 stars \n",
      "=== Predicted: (Category 3, tensor(2), tensor([0.0540, 0.2304, 0.3879, 0.2170, 0.1107]))\n",
      "\n",
      ":-( \n",
      "=== Predicted: (Category 1, tensor(0), tensor([0.3495, 0.2588, 0.1383, 0.0985, 0.1549]))\n",
      "\n",
      "confused \n",
      "=== Predicted: (Category 3, tensor(2), tensor([0.1151, 0.2921, 0.3832, 0.1504, 0.0593]))\n",
      "\n",
      "Loved our stay in this hotel The rooms were amazingly confortable \n",
      "=== Predicted: (Category 5, tensor(4), tensor([0.0029, 0.0129, 0.0219, 0.1906, 0.7717]))\n",
      "\n",
      "water was cold and the room not isolated at all \n",
      "=== Predicted: (Category 2, tensor(1), tensor([0.4208, 0.4464, 0.1137, 0.0150, 0.0042]))\n",
      "\n",
      "could have been better \n",
      "=== Predicted: (Category 2, tensor(1), tensor([0.1600, 0.4698, 0.2842, 0.0518, 0.0342]))\n",
      "\n",
      "Staff was amazing \n",
      "=== Predicted: (Category 5, tensor(4), tensor([0.0873, 0.2346, 0.1301, 0.1563, 0.3918]))\n",
      "\n",
      " \n",
      "=== Predicted: (Category 2, tensor(1), tensor([0.2029, 0.2606, 0.1720, 0.1536, 0.2109]))\n",
      "\n",
      "Staff was amazing food was bad \n",
      "=== Predicted: (Category 5, tensor(4), tensor([0.0557, 0.2172, 0.1756, 0.1864, 0.3650]))\n",
      "\n",
      "Staff was amazing 123 :-) @super #loveitFood was great \n",
      "=== Predicted: (Category 5, tensor(4), tensor([0.0088, 0.0174, 0.0156, 0.0999, 0.8582]))\n",
      "\n",
      "Food was not bad \n",
      "=== Predicted: (Category 2, tensor(1), tensor([0.0334, 0.4876, 0.4556, 0.0209, 0.0025]))\n",
      "\n"
     ]
    }
   ],
   "source": [
    "rev = [\n",
    "    'The pool was 10 times dirty',\n",
    "    '5 stars',\n",
    "    ':-(',\n",
    "    'confused',\n",
    "    'Loved our stay in this hotel The rooms were amazingly confortable',\n",
    "    'water was cold and the room not isolated at all', \n",
    "    'could have been better',\n",
    "    'Staff was amazing',\n",
    "    '',\n",
    "    'Staff was amazing food was bad',\n",
    "    'Staff was amazing 123 :-) @super #loveit'\n",
    "    'Food was great',\n",
    "    'Food was not bad'\n",
    "]\n",
    "\n",
    "for s in rev:\n",
    "    print(s, '\\n=== Predicted:', classifier.predict(s))\n",
    "    print()"
   ]
  },
  {
   "cell_type": "code",
   "execution_count": 0,
   "metadata": {
    "colab": {},
    "colab_type": "code",
    "id": "SlIiAYKCK2-R"
   },
   "outputs": [],
   "source": [
    "classifier.export()"
   ]
  },
  {
   "cell_type": "code",
   "execution_count": 0,
   "metadata": {
    "colab": {},
    "colab_type": "code",
    "id": "tKkaTCmX7l86"
   },
   "outputs": [],
   "source": [
    "#upload and change name of clasifier as export\n",
    "from pathlib import Path"
   ]
  },
  {
   "cell_type": "code",
   "execution_count": 0,
   "metadata": {
    "colab": {},
    "colab_type": "code",
    "id": "5ScSnMmE7mdL"
   },
   "outputs": [],
   "source": [
    "x = Path('.')"
   ]
  },
  {
   "cell_type": "code",
   "execution_count": 0,
   "metadata": {
    "colab": {
     "base_uri": "https://localhost:8080/",
     "height": 35
    },
    "colab_type": "code",
    "id": "qPoDDY9SACyg",
    "outputId": "cf20a488-97dc-4f56-9c30-5bfae80e79d2"
   },
   "outputs": [
    {
     "data": {
      "text/plain": [
       "PosixPath('.')"
      ]
     },
     "execution_count": 19,
     "metadata": {
      "tags": []
     },
     "output_type": "execute_result"
    }
   ],
   "source": [
    "x"
   ]
  },
  {
   "cell_type": "code",
   "execution_count": 0,
   "metadata": {
    "colab": {},
    "colab_type": "code",
    "id": "__kd8ZYwAC3Z"
   },
   "outputs": [],
   "source": [
    "classifier = load_learner(x)"
   ]
  },
  {
   "cell_type": "markdown",
   "metadata": {
    "colab": {},
    "colab_type": "code",
    "id": "kKrcBzkYPw3N"
   },
   "source": [
    "#### Predicting the test data labels submitted"
   ]
  },
  {
   "cell_type": "code",
   "execution_count": 0,
   "metadata": {
    "colab": {},
    "colab_type": "code",
    "id": "8VQIoTnLvmKf"
   },
   "outputs": [],
   "source": [
    "test_data = pd.read_csv('/content/test_data.csv')"
   ]
  },
  {
   "cell_type": "code",
   "execution_count": 0,
   "metadata": {
    "colab": {},
    "colab_type": "code",
    "id": "nWaycZicvmHf"
   },
   "outputs": [],
   "source": [
    "# do not run this \n",
    "test_sub = pd.DataFrame(test_data, columns=(\"test_id\", \"text\", \"label\"))\n",
    "for i in range(0,len(test_sub)):\n",
    "  predict_for = test_sub.iloc[i,1]\n",
    "  test_sub.iloc[i,2] = classifier.predict(predict_for)[0]\n",
    "  \n",
    "  \n",
    "test_sub.to_csv('result_semi.csv',index=False)\n",
    "#test_sub.to_csv('/content/drive/My Drive/Colab Notebooks/result_semi.csv',index=False)\n",
    "\n",
    "test_sub.head()"
   ]
  },
  {
   "cell_type": "code",
   "execution_count": 0,
   "metadata": {
    "colab": {},
    "colab_type": "code",
    "id": "ROUDsVWktWy-"
   },
   "outputs": [],
   "source": [
    "# Checking the distribution\n",
    "sentiment_count = test_sub['label'].value_counts()\n"
   ]
  },
  {
   "cell_type": "code",
   "execution_count": 51,
   "metadata": {
    "colab": {
     "base_uri": "https://localhost:8080/",
     "height": 121
    },
    "colab_type": "code",
    "id": "gigMkLLTti_a",
    "outputId": "a1ce8706-167c-407e-c9ef-3792fc83e2bd"
   },
   "outputs": [
    {
     "data": {
      "text/plain": [
       "2    11055\n",
       "1    10348\n",
       "5     9943\n",
       "4     9396\n",
       "3     9258\n",
       "Name: label, dtype: int64"
      ]
     },
     "execution_count": 51,
     "metadata": {
      "tags": []
     },
     "output_type": "execute_result"
    }
   ],
   "source": [
    "sentiment_count"
   ]
  },
  {
   "cell_type": "markdown",
   "metadata": {},
   "source": [
    "### Section 5 - Conclusion\n",
    "\n",
    "The results for test train accuracy are better the semi supervised learning. The Kaggle leaderboard only tests on 30% of the data so we cannot be sure if the accuracy is better for the first model or second but for the assessment purpose we will consider the model using unlaballed data as well\n",
    "\n",
    "Given better computation facility the whole of unlabelled dataset can be used to make better models"
   ]
  },
  {
   "cell_type": "code",
   "execution_count": null,
   "metadata": {},
   "outputs": [],
   "source": []
  }
 ],
 "metadata": {
  "accelerator": "GPU",
  "colab": {
   "collapsed_sections": [],
   "name": "3_TransferLearning.ipynb",
   "provenance": []
  },
  "kernelspec": {
   "display_name": "Python 3",
   "language": "python",
   "name": "python3"
  },
  "language_info": {
   "codemirror_mode": {
    "name": "ipython",
    "version": 3
   },
   "file_extension": ".py",
   "mimetype": "text/x-python",
   "name": "python",
   "nbconvert_exporter": "python",
   "pygments_lexer": "ipython3",
   "version": "3.6.5"
  }
 },
 "nbformat": 4,
 "nbformat_minor": 1
}
