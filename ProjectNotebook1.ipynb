{
 "cells": [
  {
   "cell_type": "markdown",
   "metadata": {},
   "source": [
    "\n",
    "#### Notebook 1 - Training using labelled data \n",
    "\n",
    "In this data analysis challenge, we are interested in developing an automatic sentiment classification system that relies on machine learning techniques to learn from a large set of product reviews provided by Yelp. The levels of polarity of opinion we consider include strong negative, weak negative, neutral, weak positive, and strong positive\n",
    "\n",
    "The aim of this challenge is to develop a sentiment classifier that can assign a large set of product reviews to the five levels of polarity of opinion as accurately as possible, given a small amount of labeled reviews and a large amount of unlabelled reviews.\n",
    "\n"
   ]
  },
  {
   "cell_type": "markdown",
   "metadata": {},
   "source": [
    "In this notebook,transfer learning in Natural Language Processing is implemented using the FastAI library.\n",
    "The Universal Language Fine-tuning for Text Classification paper is applied to classify the sentiment of Yelp reviews as a 5 star rating. \n",
    "This method helps to achieve relatively good results with not a huge sample of training data\n",
    "The labelled dataset used is 50K samples Yelp reviews"
   ]
  },
  {
   "cell_type": "markdown",
   "metadata": {},
   "source": [
    "To achieve comptutaional backend **Google Colab** was used to implement codes and some of the codes would be specific for implementation in Colab"
   ]
  },
  {
   "cell_type": "code",
   "execution_count": 3,
   "metadata": {
    "colab": {
     "base_uri": "https://localhost:8080/",
     "height": 124
    },
    "colab_type": "code",
    "executionInfo": {
     "elapsed": 35940,
     "status": "ok",
     "timestamp": 1572123783998,
     "user": {
      "displayName": "Stephy James",
      "photoUrl": "https://lh3.googleusercontent.com/a-/AAuE7mCx90s9MUV40xM3HU_rxqDTKFRecO9tO7D6M0CeRw=s64",
      "userId": "14885810046538283826"
     },
     "user_tz": -660
    },
    "id": "ejlb6pwDK4RZ",
    "outputId": "10d5c990-72af-4436-957d-c89aa466e58f"
   },
   "outputs": [
    {
     "name": "stdout",
     "output_type": "stream",
     "text": [
      "Go to this URL in a browser: https://accounts.google.com/o/oauth2/auth?client_id=947318989803-6bn6qk8qdgf4n4g3pfee6491hc0brc4i.apps.googleusercontent.com&redirect_uri=urn%3Aietf%3Awg%3Aoauth%3A2.0%3Aoob&scope=email%20https%3A%2F%2Fwww.googleapis.com%2Fauth%2Fdocs.test%20https%3A%2F%2Fwww.googleapis.com%2Fauth%2Fdrive%20https%3A%2F%2Fwww.googleapis.com%2Fauth%2Fdrive.photos.readonly%20https%3A%2F%2Fwww.googleapis.com%2Fauth%2Fpeopleapi.readonly&response_type=code\n",
      "\n",
      "Enter your authorization code:\n",
      "··········\n",
      "Mounted at /content/drive\n"
     ]
    }
   ],
   "source": [
    "# mount the drive\n",
    "from google.colab import drive\n",
    "drive.mount('/content/drive')"
   ]
  },
  {
   "cell_type": "markdown",
   "metadata": {},
   "source": [
    "### Section1 - Loading the libraries"
   ]
  },
  {
   "cell_type": "code",
   "execution_count": 0,
   "metadata": {
    "colab": {},
    "colab_type": "code",
    "id": "yOPmxbYuJDhj"
   },
   "outputs": [],
   "source": [
    "import numpy as np\n",
    "import pandas as pd\n",
    "from fastai import *\n",
    "from fastai.text import *\n",
    "from fastai.vision import *\n",
    "import seaborn as sns\n",
    "from sklearn.model_selection import train_test_split\n",
    "from sklearn.preprocessing import MinMaxScaler\n",
    "import warnings\n",
    "warnings.filterwarnings('ignore')"
   ]
  },
  {
   "cell_type": "markdown",
   "metadata": {},
   "source": [
    "### Section 2 - Reading and Exploring the data"
   ]
  },
  {
   "cell_type": "code",
   "execution_count": 3,
   "metadata": {
    "colab": {
     "base_uri": "https://localhost:8080/",
     "height": 141
    },
    "colab_type": "code",
    "executionInfo": {
     "elapsed": 1483,
     "status": "ok",
     "timestamp": 1572082329948,
     "user": {
      "displayName": "Stephy James",
      "photoUrl": "https://lh3.googleusercontent.com/a-/AAuE7mCx90s9MUV40xM3HU_rxqDTKFRecO9tO7D6M0CeRw=s64",
      "userId": "14885810046538283826"
     },
     "user_tz": -660
    },
    "id": "byUaN63nJgWf",
    "outputId": "9f7a3673-7e87-4aec-8228-1fd88483066c"
   },
   "outputs": [
    {
     "data": {
      "text/html": [
       "<div>\n",
       "<style scoped>\n",
       "    .dataframe tbody tr th:only-of-type {\n",
       "        vertical-align: middle;\n",
       "    }\n",
       "\n",
       "    .dataframe tbody tr th {\n",
       "        vertical-align: top;\n",
       "    }\n",
       "\n",
       "    .dataframe thead th {\n",
       "        text-align: right;\n",
       "    }\n",
       "</style>\n",
       "<table border=\"1\" class=\"dataframe\">\n",
       "  <thead>\n",
       "    <tr style=\"text-align: right;\">\n",
       "      <th></th>\n",
       "      <th>text</th>\n",
       "      <th>label</th>\n",
       "    </tr>\n",
       "  </thead>\n",
       "  <tbody>\n",
       "    <tr>\n",
       "      <th>0</th>\n",
       "      <td>The new rule is - \\r\\nif you are waiting for a...</td>\n",
       "      <td>4</td>\n",
       "    </tr>\n",
       "    <tr>\n",
       "      <th>1</th>\n",
       "      <td>Flirted with giving this two stars, but that's...</td>\n",
       "      <td>3</td>\n",
       "    </tr>\n",
       "    <tr>\n",
       "      <th>2</th>\n",
       "      <td>I was staying at planet Hollywood across the s...</td>\n",
       "      <td>5</td>\n",
       "    </tr>\n",
       "  </tbody>\n",
       "</table>\n",
       "</div>"
      ],
      "text/plain": [
       "                                                text  label\n",
       "0  The new rule is - \\r\\nif you are waiting for a...      4\n",
       "1  Flirted with giving this two stars, but that's...      3\n",
       "2  I was staying at planet Hollywood across the s...      5"
      ]
     },
     "execution_count": 3,
     "metadata": {
      "tags": []
     },
     "output_type": "execute_result"
    }
   ],
   "source": [
    "data = pd.read_csv('/content/drive/My Drive/Colab Notebooks/labeled_data.csv')\n",
    "data.head(3)"
   ]
  },
  {
   "cell_type": "code",
   "execution_count": 4,
   "metadata": {
    "colab": {
     "base_uri": "https://localhost:8080/",
     "height": 202
    },
    "colab_type": "code",
    "executionInfo": {
     "elapsed": 1153,
     "status": "ok",
     "timestamp": 1572082333468,
     "user": {
      "displayName": "Stephy James",
      "photoUrl": "https://lh3.googleusercontent.com/a-/AAuE7mCx90s9MUV40xM3HU_rxqDTKFRecO9tO7D6M0CeRw=s64",
      "userId": "14885810046538283826"
     },
     "user_tz": -660
    },
    "id": "8vGu6zm0J6Ye",
    "outputId": "6b4e7ab4-64a0-42d8-9ebd-88a396698a5c"
   },
   "outputs": [
    {
     "data": {
      "text/html": [
       "<div>\n",
       "<style scoped>\n",
       "    .dataframe tbody tr th:only-of-type {\n",
       "        vertical-align: middle;\n",
       "    }\n",
       "\n",
       "    .dataframe tbody tr th {\n",
       "        vertical-align: top;\n",
       "    }\n",
       "\n",
       "    .dataframe thead th {\n",
       "        text-align: right;\n",
       "    }\n",
       "</style>\n",
       "<table border=\"1\" class=\"dataframe\">\n",
       "  <thead>\n",
       "    <tr style=\"text-align: right;\">\n",
       "      <th></th>\n",
       "      <th>label</th>\n",
       "      <th>text</th>\n",
       "    </tr>\n",
       "  </thead>\n",
       "  <tbody>\n",
       "    <tr>\n",
       "      <th>41760</th>\n",
       "      <td>4</td>\n",
       "      <td>Love these guys! I have a huge picnic every ye...</td>\n",
       "    </tr>\n",
       "    <tr>\n",
       "      <th>5854</th>\n",
       "      <td>5</td>\n",
       "      <td>Like the other reviewers said, this place is d...</td>\n",
       "    </tr>\n",
       "    <tr>\n",
       "      <th>44345</th>\n",
       "      <td>3</td>\n",
       "      <td>Our first experience here was terrible, but th...</td>\n",
       "    </tr>\n",
       "    <tr>\n",
       "      <th>48733</th>\n",
       "      <td>2</td>\n",
       "      <td>The chicken Asada burrito is really good. I wi...</td>\n",
       "    </tr>\n",
       "    <tr>\n",
       "      <th>43920</th>\n",
       "      <td>4</td>\n",
       "      <td>The food at Golden Dragon is awfully good. The...</td>\n",
       "    </tr>\n",
       "  </tbody>\n",
       "</table>\n",
       "</div>"
      ],
      "text/plain": [
       "       label                                               text\n",
       "41760      4  Love these guys! I have a huge picnic every ye...\n",
       "5854       5  Like the other reviewers said, this place is d...\n",
       "44345      3  Our first experience here was terrible, but th...\n",
       "48733      2  The chicken Asada burrito is really good. I wi...\n",
       "43920      4  The food at Golden Dragon is awfully good. The..."
      ]
     },
     "execution_count": 4,
     "metadata": {
      "tags": []
     },
     "output_type": "execute_result"
    }
   ],
   "source": [
    "df_train, df_test = train_test_split(data[['label', 'text']], test_size=0.2)\n",
    "df_train = df_train.dropna()\n",
    "df_test = df_test.dropna()\n",
    "df_test.head()"
   ]
  },
  {
   "cell_type": "markdown",
   "metadata": {
    "colab_type": "text",
    "id": "3w47QcOvJ6ou"
   },
   "source": [
    "In fastai library, the data processing can be done using the from_df method of the TextLMDataBunch. \n",
    "The different steps of preprocessing such as: cleaning, tokenizing, indexing, building vocabulary, etc. are done using this module."
   ]
  },
  {
   "cell_type": "markdown",
   "metadata": {},
   "source": [
    "The source code of the pre processing steps can be found at \n",
    "https://github.com/fastai/fastai/blob/master/fastai/text/transform.py\n",
    "    "
   ]
  },
  {
   "cell_type": "markdown",
   "metadata": {},
   "source": [
    "text.tranform contains the functions that deal behind the scenes with the two main tasks when preparing texts for modelling: tokenization and numericalization.\n",
    "\n",
    "Tokenization splits the raw texts into tokens (which can be words, or punctuation signs...). The most basic way to do this would be to separate according to spaces, but it's possible to be more subtle; for instance, the contractions like \"isn't\" or \"don't\" should be split in [\"is\",\"n't\"] or [\"do\",\"n't\"]. By default fastai will use the powerful spacy tokenizer.\n",
    "\n",
    "Numericalization is easier as it just consists in attributing a unique id to each token and mapping each of those tokens to their respective ids.\n",
    "\n",
    "Ref https://docs.fast.ai/text.transform.html\n",
    "\n",
    "Tokenization step is actually divided in two phases: first, a certain list of rules to the raw texts is applied as preprocessing, then we use the tokenizer to split them in lists of tokens. Combining together those rules, the tok_funcand the lang to process the texts is the role of the Tokenizer class.\n",
    "\n"
   ]
  },
  {
   "cell_type": "markdown",
   "metadata": {},
   "source": [
    "This preprocessing is for the language model"
   ]
  },
  {
   "cell_type": "code",
   "execution_count": 0,
   "metadata": {
    "colab": {},
    "colab_type": "code",
    "id": "8vC8x0FtJ6-e"
   },
   "outputs": [],
   "source": [
    "data_lm = TextLMDataBunch.from_df('./', df_train, df_test)"
   ]
  },
  {
   "cell_type": "markdown",
   "metadata": {},
   "source": [
    "UNK (xxunk) is for an unknown word (one that isn't present in the current vocabulary)\n",
    "\n",
    "PAD (xxpad) is the token used for padding, if we need to regroup several texts of different lengths in a batch\n",
    "\n",
    "BOS (xxbos) represents the beginning of a text in your dataset\n",
    "\n",
    "FLD (xxfld) is used if you set mark_fields=True in your TokenizeProcessor to separate the different fields of texts (if your texts are loaded from several columns in a dataframe)\n",
    "\n",
    "TK_MAJ (xxmaj) is used to indicate the next word begins with a capital in the original text\n",
    "\n",
    "TK_UP (xxup) is used to indicate the next word is written in all caps in the original text\n",
    "\n",
    "TK_REP (xxrep) is used to indicate the next character is repeated n times in the original text (usage xxrep n {char})\n",
    "\n",
    "TK_WREP(xxwrep) is used to indicate the next word is repeated n times in the original text (usage xxwrep n {word})"
   ]
  },
  {
   "cell_type": "code",
   "execution_count": 7,
   "metadata": {
    "colab": {
     "base_uri": "https://localhost:8080/",
     "height": 364
    },
    "colab_type": "code",
    "executionInfo": {
     "elapsed": 1149,
     "status": "ok",
     "timestamp": 1572082556340,
     "user": {
      "displayName": "Stephy James",
      "photoUrl": "https://lh3.googleusercontent.com/a-/AAuE7mCx90s9MUV40xM3HU_rxqDTKFRecO9tO7D6M0CeRw=s64",
      "userId": "14885810046538283826"
     },
     "user_tz": -660
    },
    "id": "SfVONtqEMssq",
    "outputId": "8777cd88-b187-42da-f537-09e9dff49583"
   },
   "outputs": [
    {
     "data": {
      "text/plain": [
       "['xxunk',\n",
       " 'xxpad',\n",
       " 'xxbos',\n",
       " 'xxeos',\n",
       " 'xxfld',\n",
       " 'xxmaj',\n",
       " 'xxup',\n",
       " 'xxrep',\n",
       " 'xxwrep',\n",
       " '.',\n",
       " 'the',\n",
       " ',',\n",
       " 'and',\n",
       " 'i',\n",
       " 'to',\n",
       " 'a',\n",
       " 'was',\n",
       " 'it',\n",
       " 'of',\n",
       " 'for']"
      ]
     },
     "execution_count": 7,
     "metadata": {
      "tags": []
     },
     "output_type": "execute_result"
    }
   ],
   "source": [
    "data_lm.vocab.itos[:20]"
   ]
  },
  {
   "cell_type": "markdown",
   "metadata": {},
   "source": [
    "### Section 3 - NLP model creation and training and fine tuning\n",
    "The main thing here is RNNLearner. There are also some utility functions to help create and update text models.\n",
    "\n",
    "Ref: https://docs.fast.ai/text.learner.html#language_model_learner"
   ]
  },
  {
   "cell_type": "markdown",
   "metadata": {},
   "source": [
    "The achitecture used is AWD_LSTM as proposed in the ULMFiT paper using a pretrained model. the drop_mult is applied to all the dropouts weights of the config as per various architecture. drop_mult=0.5 as per the documentation for AWD_LSTM\n"
   ]
  },
  {
   "cell_type": "code",
   "execution_count": 0,
   "metadata": {
    "colab": {},
    "colab_type": "code",
    "id": "5MiVSKPtMrE_"
   },
   "outputs": [],
   "source": [
    "learn = language_model_learner(data_lm, arch = AWD_LSTM, pretrained = True, drop_mult=0.5)"
   ]
  },
  {
   "cell_type": "markdown",
   "metadata": {},
   "source": [
    "The language model can be tested for a word to see if the sentense formed is reasonable for a given word"
   ]
  },
  {
   "cell_type": "code",
   "execution_count": 9,
   "metadata": {
    "colab": {
     "base_uri": "https://localhost:8080/",
     "height": 55
    },
    "colab_type": "code",
    "executionInfo": {
     "elapsed": 1807,
     "status": "ok",
     "timestamp": 1572082573947,
     "user": {
      "displayName": "Stephy James",
      "photoUrl": "https://lh3.googleusercontent.com/a-/AAuE7mCx90s9MUV40xM3HU_rxqDTKFRecO9tO7D6M0CeRw=s64",
      "userId": "14885810046538283826"
     },
     "user_tz": -660
    },
    "id": "vUVE74F8Mn0c",
    "outputId": "fb82fd91-de8b-4572-9376-57ae09e7986b"
   },
   "outputs": [
    {
     "data": {
      "text/plain": [
       "'What TV series follows is a campaign of TV and resolution stories about the history of American politics and political politics . The history of the Heartbreaking headaches have been cultural exhibits in the history of the United States . Officially , they are described as being valuable issues and desired as a literal interpretation of their characters . Art is based on the appearance of historical figures , which involved wealthy citizen newspapers and films by authors and artists such as - before Building God . About 1000'"
      ]
     },
     "execution_count": 9,
     "metadata": {
      "tags": []
     },
     "output_type": "execute_result"
    }
   ],
   "source": [
    "#testing for the word 'what'\n",
    "learn.predict('What', 100)"
   ]
  },
  {
   "cell_type": "markdown",
   "metadata": {},
   "source": [
    "lr_find helps to fing a learning rate over iterations\n",
    "Explores from start_lr(1e-07) to end_lr(10) over num_it iterations(100) in learn, stops when loss diverges.\n",
    "\n",
    "Ref https://docs.fast.ai/basic_train.html#lr_find\n",
    "    "
   ]
  },
  {
   "cell_type": "code",
   "execution_count": 10,
   "metadata": {
    "colab": {
     "base_uri": "https://localhost:8080/",
     "height": 297
    },
    "colab_type": "code",
    "executionInfo": {
     "elapsed": 51006,
     "status": "ok",
     "timestamp": 1572082628798,
     "user": {
      "displayName": "Stephy James",
      "photoUrl": "https://lh3.googleusercontent.com/a-/AAuE7mCx90s9MUV40xM3HU_rxqDTKFRecO9tO7D6M0CeRw=s64",
      "userId": "14885810046538283826"
     },
     "user_tz": -660
    },
    "id": "sEpHx5rmMn3D",
    "outputId": "122345c2-095e-4759-ec52-745c41c352b9"
   },
   "outputs": [
    {
     "data": {
      "text/html": [],
      "text/plain": [
       "<IPython.core.display.HTML object>"
      ]
     },
     "metadata": {
      "tags": []
     },
     "output_type": "display_data"
    },
    {
     "name": "stdout",
     "output_type": "stream",
     "text": [
      "LR Finder is complete, type {learner_name}.recorder.plot() to see the graph.\n"
     ]
    },
    {
     "data": {
      "image/png": "[encoded data removed]",
      "text/plain": [
       "<Figure size 432x288 with 1 Axes>"
      ]
     },
     "metadata": {
      "tags": []
     },
     "output_type": "display_data"
    }
   ],
   "source": [
    "learn.lr_find()\n",
    "learn.recorder.plot()"
   ]
  },
  {
   "cell_type": "markdown",
   "metadata": {},
   "source": [
    "Firstly only the last softmax layer is fitted as per ULMFiT paper.\n",
    "fit_one_cycle fits a model following the 1cycle policy.\n",
    "\n",
    "Ref https://docs.fast.ai/basic_train.html#fit_one_cycle"
   ]
  },
  {
   "cell_type": "code",
   "execution_count": 11,
   "metadata": {
    "colab": {
     "base_uri": "https://localhost:8080/",
     "height": 79
    },
    "colab_type": "code",
    "executionInfo": {
     "elapsed": 694475,
     "status": "ok",
     "timestamp": 1572083343350,
     "user": {
      "displayName": "Stephy James",
      "photoUrl": "https://lh3.googleusercontent.com/a-/AAuE7mCx90s9MUV40xM3HU_rxqDTKFRecO9tO7D6M0CeRw=s64",
      "userId": "14885810046538283826"
     },
     "user_tz": -660
    },
    "id": "ELUvz0SROL-4",
    "outputId": "933f4bb6-4e38-492d-ffbc-0b603f42bf46"
   },
   "outputs": [
    {
     "data": {
      "text/html": [
       "<table border=\"1\" class=\"dataframe\">\n",
       "  <thead>\n",
       "    <tr style=\"text-align: left;\">\n",
       "      <th>epoch</th>\n",
       "      <th>train_loss</th>\n",
       "      <th>valid_loss</th>\n",
       "      <th>accuracy</th>\n",
       "      <th>time</th>\n",
       "    </tr>\n",
       "  </thead>\n",
       "  <tbody>\n",
       "    <tr>\n",
       "      <td>0</td>\n",
       "      <td>4.081758</td>\n",
       "      <td>3.363927</td>\n",
       "      <td>0.257143</td>\n",
       "      <td>11:33</td>\n",
       "    </tr>\n",
       "  </tbody>\n",
       "</table>"
      ],
      "text/plain": [
       "<IPython.core.display.HTML object>"
      ]
     },
     "metadata": {
      "tags": []
     },
     "output_type": "display_data"
    }
   ],
   "source": [
    "#last softmax layer fitted\n",
    "learn.freeze_to(-1)\n",
    "learn.fit_one_cycle(1, 1e-2)"
   ]
  },
  {
   "cell_type": "code",
   "execution_count": 12,
   "metadata": {
    "colab": {
     "base_uri": "https://localhost:8080/",
     "height": 263
    },
    "colab_type": "code",
    "executionInfo": {
     "elapsed": 5737963,
     "status": "ok",
     "timestamp": 1572089118697,
     "user": {
      "displayName": "Stephy James",
      "photoUrl": "https://lh3.googleusercontent.com/a-/AAuE7mCx90s9MUV40xM3HU_rxqDTKFRecO9tO7D6M0CeRw=s64",
      "userId": "14885810046538283826"
     },
     "user_tz": -660
    },
    "id": "DtsR7gFUOKDj",
    "outputId": "793c7194-42b9-4228-dfdb-4844d8c15c1a"
   },
   "outputs": [
    {
     "data": {
      "text/html": [
       "<table border=\"1\" class=\"dataframe\">\n",
       "  <thead>\n",
       "    <tr style=\"text-align: left;\">\n",
       "      <th>epoch</th>\n",
       "      <th>train_loss</th>\n",
       "      <th>valid_loss</th>\n",
       "      <th>accuracy</th>\n",
       "      <th>time</th>\n",
       "    </tr>\n",
       "  </thead>\n",
       "  <tbody>\n",
       "    <tr>\n",
       "      <td>0</td>\n",
       "      <td>3.784193</td>\n",
       "      <td>3.219397</td>\n",
       "      <td>0.300000</td>\n",
       "      <td>13:40</td>\n",
       "    </tr>\n",
       "    <tr>\n",
       "      <td>1</td>\n",
       "      <td>3.666838</td>\n",
       "      <td>3.146044</td>\n",
       "      <td>0.357143</td>\n",
       "      <td>13:35</td>\n",
       "    </tr>\n",
       "    <tr>\n",
       "      <td>2</td>\n",
       "      <td>3.576536</td>\n",
       "      <td>3.092621</td>\n",
       "      <td>0.385714</td>\n",
       "      <td>13:39</td>\n",
       "    </tr>\n",
       "    <tr>\n",
       "      <td>3</td>\n",
       "      <td>3.468062</td>\n",
       "      <td>3.058227</td>\n",
       "      <td>0.385714</td>\n",
       "      <td>13:38</td>\n",
       "    </tr>\n",
       "    <tr>\n",
       "      <td>4</td>\n",
       "      <td>3.356156</td>\n",
       "      <td>3.058938</td>\n",
       "      <td>0.400000</td>\n",
       "      <td>13:39</td>\n",
       "    </tr>\n",
       "    <tr>\n",
       "      <td>5</td>\n",
       "      <td>3.258097</td>\n",
       "      <td>3.010541</td>\n",
       "      <td>0.400000</td>\n",
       "      <td>13:40</td>\n",
       "    </tr>\n",
       "    <tr>\n",
       "      <td>6</td>\n",
       "      <td>3.210307</td>\n",
       "      <td>3.014720</td>\n",
       "      <td>0.400000</td>\n",
       "      <td>13:42</td>\n",
       "    </tr>\n",
       "  </tbody>\n",
       "</table>"
      ],
      "text/plain": [
       "<IPython.core.display.HTML object>"
      ]
     },
     "metadata": {
      "tags": []
     },
     "output_type": "display_data"
    }
   ],
   "source": [
    "# Then unfreeze the model and fit it again\n",
    "learn.unfreeze()\n",
    "#learn.fit_one_cycle(10, 1e-2)\n",
    "learn.fit_one_cycle(7, 1e-3)"
   ]
  },
  {
   "cell_type": "markdown",
   "metadata": {},
   "source": [
    "The above results can be interpretted as the model can predict the next word with an accuracy of 0.40 \n"
   ]
  },
  {
   "cell_type": "code",
   "execution_count": 13,
   "metadata": {
    "colab": {
     "base_uri": "https://localhost:8080/",
     "height": 55
    },
    "colab_type": "code",
    "executionInfo": {
     "elapsed": 1124,
     "status": "ok",
     "timestamp": 1572089140492,
     "user": {
      "displayName": "Stephy James",
      "photoUrl": "https://lh3.googleusercontent.com/a-/AAuE7mCx90s9MUV40xM3HU_rxqDTKFRecO9tO7D6M0CeRw=s64",
      "userId": "14885810046538283826"
     },
     "user_tz": -660
    },
    "id": "JEvzasmvOKGp",
    "outputId": "2d2ecf73-9671-4792-f14a-b17f3d6ac930"
   },
   "outputs": [
    {
     "name": "stdout",
     "output_type": "stream",
     "text": [
      "xxbos i am grass fed . i get their support from every local business . This has been my favorite \" Market Road \" of Jewish deli as P.S. The place is used to gun visitors , but still , it has made me sick to my wallet . You can enjoy the Spuds for sure ! ! ! xxbos i can not stand how reading the reviews is .... iiii 'm'm'm'm throwingthrowingthrowingthrowing upupupup !!!! forforforfor pickedpickedpickedpicked upupupup mymymymy carcarcarcar thisthisthisthis morningmorningmorningmorning !!!! Best falafel i 've had in years\n"
     ]
    }
   ],
   "source": [
    "# testing the predicting capability of the model\n",
    "print(learn.predict('xxbos', n_words=100))"
   ]
  },
  {
   "cell_type": "markdown",
   "metadata": {
    "colab": {},
    "colab_type": "code",
    "id": "ZvEFhydveNAI"
   },
   "source": [
    "We can see the language model now predicts with context to the Yelp dataset as opposed to generic corpus"
   ]
  },
  {
   "cell_type": "markdown",
   "metadata": {},
   "source": [
    "We can save the encoder as fine_enc for later use"
   ]
  },
  {
   "cell_type": "code",
   "execution_count": 0,
   "metadata": {
    "colab": {},
    "colab_type": "code",
    "id": "uaRanCdnOKJZ"
   },
   "outputs": [],
   "source": [
    "# Save the encoder\n",
    "learn.save_encoder('fine_enc')"
   ]
  },
  {
   "cell_type": "markdown",
   "metadata": {},
   "source": [
    "#### Now preprocessing for the classifier model"
   ]
  },
  {
   "cell_type": "code",
   "execution_count": 0,
   "metadata": {
    "colab": {},
    "colab_type": "code",
    "id": "OuFe1wsohVN3"
   },
   "outputs": [],
   "source": [
    "# Preprocess data\n",
    "data_clas = TextClasDataBunch.from_df('./', df_train, df_test, vocab=data_lm.vocab, bs=32)"
   ]
  },
  {
   "cell_type": "code",
   "execution_count": 17,
   "metadata": {
    "colab": {
     "base_uri": "https://localhost:8080/",
     "height": 1000
    },
    "colab_type": "code",
    "executionInfo": {
     "elapsed": 60354,
     "status": "ok",
     "timestamp": 1572089320538,
     "user": {
      "displayName": "Stephy James",
      "photoUrl": "https://lh3.googleusercontent.com/a-/AAuE7mCx90s9MUV40xM3HU_rxqDTKFRecO9tO7D6M0CeRw=s64",
      "userId": "14885810046538283826"
     },
     "user_tz": -660
    },
    "id": "fqsNO9PbhVRu",
    "outputId": "92f31092-b796-4c79-c56d-323f10cc2d55"
   },
   "outputs": [
    {
     "data": {
      "text/plain": [
       "RNNLearner(data=TextClasDataBunch;\n",
       "\n",
       "Train: LabelList (40000 items)\n",
       "x: TextList\n",
       "xxbos xxmaj update xxmaj review : xxmaj tako has completely redone their menu . xxmaj your old favorites are completely different . xxmaj they do have some new tacos which are fun , i 'd recommend the duck taco . \n",
       " \n",
       "  xxmaj however , they redid the xxmaj tako taco- it is terrible ! ! ! xxmaj extremely fishy and now deep fried . i have no idea why they would change their menu , especially when it was working . i think the new menu has had an impact on their business because the place was not nearly as busy with many empty seats . xxmaj you might not need a reservation anymore . xxmaj save yourself the heart ache , eat something at home . xxmaj that 's what we 'll be doing next time !,xxbos xxmaj had the calzone with xxunk cheese , spinach , xxmaj alfredo sauce , jalapeã±os , and onions . xxmaj amazing taste . xxmaj definitely recommend all vegetarians to order this next time .,xxbos xxmaj there 's a small space when you first walk in which can get congested with guests having just arrived and servers trying to pass with dishes , but you 're greeted pretty much straight away , given menus and seated so it 's not an issue for long . \n",
       " \n",
       "  xxmaj the inside of the restaurant is pretty plain and simple and i can understand how this place can get a little too busy at peak times as seating extends around the counter but is a little limited . \n",
       " \n",
       "  xxmaj as far as food goes , this might not be an issue for most but xxup please xxup be xxup aware , the gyoza does not mention what , if any , meat is inside on any of the 3 gyoza dishes on the menu so i went to order the beef gyoza rice bowl and it was n't until i double checked that the server told me it was chicken & veg - i do n't eat chicken so i was lucky not to order something i could n't eat as this info was n't offered or clear . \n",
       " \n",
       "  i asked if i could sub the gyoza for a different xxunk but was refused . xxmaj no xxunk allowed and these can not be made to order . \n",
       " \n",
       "  xxmaj as a result , we went for the beef rice bowl , the kalbi / chicken special dish and some spam musubis . xxmaj the portion sizes were good and the food itself was delicious ! ! xxmaj the sauces and dressings are so tasty and the meat given is so good , generous and not full of fat . xxmaj all the flavours were prominent and not hidden by grease or cooking oils too . \n",
       " \n",
       "  xxmaj both of us were very impressed with what we ordered and loved the xxmaj asian / xxmaj hawaiian inspired food . \n",
       " \n",
       "  xxmaj will definitely return for some great food !,xxbos i had to take my puppy there for his vaccinations . xxmaj this was my puppy 's first visit to the vet and it was interesting to say the least . xxmaj as soon as we pulled up , he puked in my car . xxmaj all i remember is his head bobbing and weaving and my boyfriend yelling ' xxmaj he 's about to puke ... xxmaj get out ! ' . xxmaj so in the process of getting him out of the car , he puked on the passenger side : ( . xxmaj the lady at the front desk was really nice and gave me a roll of paper towels and a spray bottle to assist with the cleanup . \n",
       " \n",
       "  xxmaj the sign in process was easy and we only had to wait about 10 minutes . i 'm not a big fan of the neighborhood but i 've got to say that everyone was really nice . xxmaj plus the prices are reasonable . i 've worked at a vet office in the past so i know how much they mark up their services . i would definitely use this place again for vaccinations and i highly recommend it . xxmaj it 's an awesome clinic that is doing great work for the community .,xxbos i used to come here a quite a bit . xxmaj it 's close to me , i 've had to take a few things back due to error of food items ordered to given . i just had my worst and final bad experience . a kid named xxmaj xxunk handed me back my change , coins on top of bills but he did n't really hand it , just kind of not looking at my hand kind of handed it to me . i caught the bills but the coins went flying . xxmaj he said ooops i 'm sorry , giggled then shut the door . i actually wanted the coins this time . i might have let it slide most other times but this time i wanted them . xxmaj so when he opened the door to give me my food , i asked him to replace the coins . xxmaj he said i ca n't just take coins out of the register . i said , well your the reason they went flying . xxmaj he said no it 's not . i repeated i 'd like the coins , i explained i would be contacting the main office . xxmaj he shut the door . i xxunk my horn he looked and walked away still giggling . xxmaj another employee heard my horn and came over and opened the door , asked what was the problem . i said i want my change . xxmaj she opened the register and gave me the coins . i left . i will never go back . xxmaj that was insane , rude , horrible service .\n",
       "y: CategoryList\n",
       "2,4,4,4,1\n",
       "Path: .;\n",
       "\n",
       "Valid: LabelList (10000 items)\n",
       "x: TextList\n",
       "xxbos xxmaj love these guys ! i have a huge picnic every year for my job , and i always use xxmaj xxunk for my beverages . xxmaj they 're nice folks , always get the order right , and it 's on time . i 've also been to the store itself many times , and they do indeed have a great selection .,xxbos xxmaj like the other reviewers said , this place is difficult to find . i was going to go there for breakfast but could not find the place . xxmaj went to my doctor 's office and on the way back , decided to look for the restaurant again and found it . xxmaj finally saw the \" xxmaj bertha 's xxmaj cafe \" sign . xxmaj it is right next to a pilates place and a consignment shop . i decided to order the xxunk havarti sandwich and it was great ! i ordered xxmaj china xxmaj mist iced tea and a xxunk chocolate mini cupcake . xxmaj sandwich does come with a cookie too ! xxmaj now that i know where the place is , i 'll go again and try it for breakfast . xxmaj definitely a must place to go for a xxunk sandwich . xxmaj oh their desserts looked good .. brownies , muffins , etc .,xxbos xxmaj our first experience here was terrible , but the manager was very kind to email us to visit a second time . xxmaj our second experience was significantly better . \n",
       " \n",
       " \n",
       " \n",
       "  xxmaj in short : xxmaj service this time was great because they were expecting us , although on a normal day the service can be hit - or - miss . xxmaj the dishes are very creative , albeit not always tasty . xxmaj it 's definitely an interesting place to try if you 're in the city , however , the price - to - quality ratio is a bit skewed if you 're paying for your own meal . \n",
       " \n",
       " \n",
       " \n",
       "  xxmaj the inari was interesting , but we were n't too fond of the taste . i 'm a xxup big fan of xxunk in general . i found the stir fried rice to be a bit too soggy , and the flavours of the scallions and other elements did n't really work with the sweet inari wrap , xxup imo . xxmaj the roe was a nice addition though . xxmaj the inari are $ 6 for a single piece on the menu . \n",
       " \n",
       " \n",
       " \n",
       "  xxmaj the cheeseburger okonomiyaki was ... very bizarre . xxmaj the kraft single was just awful inside the okonomiyaki . xxmaj we make okonomiyaki at home , and i can imagine many other modern twists you can do to okonomiyaki that do not involve a cheeseburger . xxmaj this dish is $ 14 on the menu . \n",
       " \n",
       " \n",
       " \n",
       "  xxmaj the fried cauliflower was nice and simple . xxmaj no way to mess this up . xxmaj we enjoyed this a lot , but we would not get this normally because of the price ( $ 10 ) . xxmaj the smoked salmon was nice and fresh ; very simple . xxmaj it was the nicest part of our meal , but we did not see it on the regular noodle bar menu .,xxbos xxmaj the chicken xxmaj asada burrito is really good . i wish they used a different cheese on their nachos like liquid cheese would be good . xxmaj down side on my 1st visit is that i felt very rushed when ordering and finding a spot to wait for food is rough when it 's crowded .,xxbos xxmaj the food at xxmaj golden xxmaj dragon is awfully good . xxmaj the prices are even better . xxmaj they serve both xxmaj chinese and xxmaj japanese cuisine in two separate and distinct menus . xxmaj the options for food are mind boggling at times . xxmaj there is a sushi chef at the bar from open until close who knows how to serve up some pretty respectable fish . \n",
       " \n",
       "  xxmaj what makes xxmaj golden really stand out is the wait staff . xxmaj the cooks , servers , and management ( which tend to double up on jobs ) are very friendly and engage you in conversation , which i found gave the restaurant a \" homey \" feel . xxmaj the dining area is very large and nicely decorated , with flowing fountains and a very nice koi pond . xxmaj what is surprises me the most is how empty the place seems to be at any hour . i never have to wait for a table , and even with four or five other parties , the place feels large and can fit many more . \n",
       " \n",
       "  i will continue to eat at xxmaj golden xxmaj dragon , though they may not be the best out there , you certainly can feel and taste they try their hardest to be .\n",
       "y: CategoryList\n",
       "4,5,3,2,4\n",
       "Path: .;\n",
       "\n",
       "Test: None, model=SequentialRNN(\n",
       "  (0): MultiBatchEncoder(\n",
       "    (module): AWD_LSTM(\n",
       "      (encoder): Embedding(31672, 400, padding_idx=1)\n",
       "      (encoder_dp): EmbeddingDropout(\n",
       "        (emb): Embedding(31672, 400, padding_idx=1)\n",
       "      )\n",
       "      (rnns): ModuleList(\n",
       "        (0): WeightDropout(\n",
       "          (module): LSTM(400, 1152, batch_first=True)\n",
       "        )\n",
       "        (1): WeightDropout(\n",
       "          (module): LSTM(1152, 1152, batch_first=True)\n",
       "        )\n",
       "        (2): WeightDropout(\n",
       "          (module): LSTM(1152, 400, batch_first=True)\n",
       "        )\n",
       "      )\n",
       "      (input_dp): RNNDropout()\n",
       "      (hidden_dps): ModuleList(\n",
       "        (0): RNNDropout()\n",
       "        (1): RNNDropout()\n",
       "        (2): RNNDropout()\n",
       "      )\n",
       "    )\n",
       "  )\n",
       "  (1): PoolingLinearClassifier(\n",
       "    (layers): Sequential(\n",
       "      (0): BatchNorm1d(1200, eps=1e-05, momentum=0.1, affine=True, track_running_stats=True)\n",
       "      (1): Dropout(p=0.2, inplace=False)\n",
       "      (2): Linear(in_features=1200, out_features=50, bias=True)\n",
       "      (3): ReLU(inplace=True)\n",
       "      (4): BatchNorm1d(50, eps=1e-05, momentum=0.1, affine=True, track_running_stats=True)\n",
       "      (5): Dropout(p=0.1, inplace=False)\n",
       "      (6): Linear(in_features=50, out_features=5, bias=True)\n",
       "    )\n",
       "  )\n",
       "), opt_func=functools.partial(<class 'torch.optim.adam.Adam'>, betas=(0.9, 0.99)), loss_func=FlattenedLoss of CrossEntropyLoss(), metrics=[<function accuracy at 0x7fc4c3261598>], true_wd=True, bn_wd=True, wd=0.01, train_bn=True, path=PosixPath('.'), model_dir='models', callback_fns=[functools.partial(<class 'fastai.basic_train.Recorder'>, add_time=True, silent=False)], callbacks=[RNNTrainer\n",
       "learn: RNNLearner(data=TextClasDataBunch;\n",
       "\n",
       "Train: LabelList (40000 items)\n",
       "x: TextList\n",
       "xxbos xxmaj update xxmaj review : xxmaj tako has completely redone their menu . xxmaj your old favorites are completely different . xxmaj they do have some new tacos which are fun , i 'd recommend the duck taco . \n",
       " \n",
       "  xxmaj however , they redid the xxmaj tako taco- it is terrible ! ! ! xxmaj extremely fishy and now deep fried . i have no idea why they would change their menu , especially when it was working . i think the new menu has had an impact on their business because the place was not nearly as busy with many empty seats . xxmaj you might not need a reservation anymore . xxmaj save yourself the heart ache , eat something at home . xxmaj that 's what we 'll be doing next time !,xxbos xxmaj had the calzone with xxunk cheese , spinach , xxmaj alfredo sauce , jalapeã±os , and onions . xxmaj amazing taste . xxmaj definitely recommend all vegetarians to order this next time .,xxbos xxmaj there 's a small space when you first walk in which can get congested with guests having just arrived and servers trying to pass with dishes , but you 're greeted pretty much straight away , given menus and seated so it 's not an issue for long . \n",
       " \n",
       "  xxmaj the inside of the restaurant is pretty plain and simple and i can understand how this place can get a little too busy at peak times as seating extends around the counter but is a little limited . \n",
       " \n",
       "  xxmaj as far as food goes , this might not be an issue for most but xxup please xxup be xxup aware , the gyoza does not mention what , if any , meat is inside on any of the 3 gyoza dishes on the menu so i went to order the beef gyoza rice bowl and it was n't until i double checked that the server told me it was chicken & veg - i do n't eat chicken so i was lucky not to order something i could n't eat as this info was n't offered or clear . \n",
       " \n",
       "  i asked if i could sub the gyoza for a different xxunk but was refused . xxmaj no xxunk allowed and these can not be made to order . \n",
       " \n",
       "  xxmaj as a result , we went for the beef rice bowl , the kalbi / chicken special dish and some spam musubis . xxmaj the portion sizes were good and the food itself was delicious ! ! xxmaj the sauces and dressings are so tasty and the meat given is so good , generous and not full of fat . xxmaj all the flavours were prominent and not hidden by grease or cooking oils too . \n",
       " \n",
       "  xxmaj both of us were very impressed with what we ordered and loved the xxmaj asian / xxmaj hawaiian inspired food . \n",
       " \n",
       "  xxmaj will definitely return for some great food !,xxbos i had to take my puppy there for his vaccinations . xxmaj this was my puppy 's first visit to the vet and it was interesting to say the least . xxmaj as soon as we pulled up , he puked in my car . xxmaj all i remember is his head bobbing and weaving and my boyfriend yelling ' xxmaj he 's about to puke ... xxmaj get out ! ' . xxmaj so in the process of getting him out of the car , he puked on the passenger side : ( . xxmaj the lady at the front desk was really nice and gave me a roll of paper towels and a spray bottle to assist with the cleanup . \n",
       " \n",
       "  xxmaj the sign in process was easy and we only had to wait about 10 minutes . i 'm not a big fan of the neighborhood but i 've got to say that everyone was really nice . xxmaj plus the prices are reasonable . i 've worked at a vet office in the past so i know how much they mark up their services . i would definitely use this place again for vaccinations and i highly recommend it . xxmaj it 's an awesome clinic that is doing great work for the community .,xxbos i used to come here a quite a bit . xxmaj it 's close to me , i 've had to take a few things back due to error of food items ordered to given . i just had my worst and final bad experience . a kid named xxmaj xxunk handed me back my change , coins on top of bills but he did n't really hand it , just kind of not looking at my hand kind of handed it to me . i caught the bills but the coins went flying . xxmaj he said ooops i 'm sorry , giggled then shut the door . i actually wanted the coins this time . i might have let it slide most other times but this time i wanted them . xxmaj so when he opened the door to give me my food , i asked him to replace the coins . xxmaj he said i ca n't just take coins out of the register . i said , well your the reason they went flying . xxmaj he said no it 's not . i repeated i 'd like the coins , i explained i would be contacting the main office . xxmaj he shut the door . i xxunk my horn he looked and walked away still giggling . xxmaj another employee heard my horn and came over and opened the door , asked what was the problem . i said i want my change . xxmaj she opened the register and gave me the coins . i left . i will never go back . xxmaj that was insane , rude , horrible service .\n",
       "y: CategoryList\n",
       "2,4,4,4,1\n",
       "Path: .;\n",
       "\n",
       "Valid: LabelList (10000 items)\n",
       "x: TextList\n",
       "xxbos xxmaj love these guys ! i have a huge picnic every year for my job , and i always use xxmaj xxunk for my beverages . xxmaj they 're nice folks , always get the order right , and it 's on time . i 've also been to the store itself many times , and they do indeed have a great selection .,xxbos xxmaj like the other reviewers said , this place is difficult to find . i was going to go there for breakfast but could not find the place . xxmaj went to my doctor 's office and on the way back , decided to look for the restaurant again and found it . xxmaj finally saw the \" xxmaj bertha 's xxmaj cafe \" sign . xxmaj it is right next to a pilates place and a consignment shop . i decided to order the xxunk havarti sandwich and it was great ! i ordered xxmaj china xxmaj mist iced tea and a xxunk chocolate mini cupcake . xxmaj sandwich does come with a cookie too ! xxmaj now that i know where the place is , i 'll go again and try it for breakfast . xxmaj definitely a must place to go for a xxunk sandwich . xxmaj oh their desserts looked good .. brownies , muffins , etc .,xxbos xxmaj our first experience here was terrible , but the manager was very kind to email us to visit a second time . xxmaj our second experience was significantly better . \n",
       " \n",
       " \n",
       " \n",
       "  xxmaj in short : xxmaj service this time was great because they were expecting us , although on a normal day the service can be hit - or - miss . xxmaj the dishes are very creative , albeit not always tasty . xxmaj it 's definitely an interesting place to try if you 're in the city , however , the price - to - quality ratio is a bit skewed if you 're paying for your own meal . \n",
       " \n",
       " \n",
       " \n",
       "  xxmaj the inari was interesting , but we were n't too fond of the taste . i 'm a xxup big fan of xxunk in general . i found the stir fried rice to be a bit too soggy , and the flavours of the scallions and other elements did n't really work with the sweet inari wrap , xxup imo . xxmaj the roe was a nice addition though . xxmaj the inari are $ 6 for a single piece on the menu . \n",
       " \n",
       " \n",
       " \n",
       "  xxmaj the cheeseburger okonomiyaki was ... very bizarre . xxmaj the kraft single was just awful inside the okonomiyaki . xxmaj we make okonomiyaki at home , and i can imagine many other modern twists you can do to okonomiyaki that do not involve a cheeseburger . xxmaj this dish is $ 14 on the menu . \n",
       " \n",
       " \n",
       " \n",
       "  xxmaj the fried cauliflower was nice and simple . xxmaj no way to mess this up . xxmaj we enjoyed this a lot , but we would not get this normally because of the price ( $ 10 ) . xxmaj the smoked salmon was nice and fresh ; very simple . xxmaj it was the nicest part of our meal , but we did not see it on the regular noodle bar menu .,xxbos xxmaj the chicken xxmaj asada burrito is really good . i wish they used a different cheese on their nachos like liquid cheese would be good . xxmaj down side on my 1st visit is that i felt very rushed when ordering and finding a spot to wait for food is rough when it 's crowded .,xxbos xxmaj the food at xxmaj golden xxmaj dragon is awfully good . xxmaj the prices are even better . xxmaj they serve both xxmaj chinese and xxmaj japanese cuisine in two separate and distinct menus . xxmaj the options for food are mind boggling at times . xxmaj there is a sushi chef at the bar from open until close who knows how to serve up some pretty respectable fish . \n",
       " \n",
       "  xxmaj what makes xxmaj golden really stand out is the wait staff . xxmaj the cooks , servers , and management ( which tend to double up on jobs ) are very friendly and engage you in conversation , which i found gave the restaurant a \" homey \" feel . xxmaj the dining area is very large and nicely decorated , with flowing fountains and a very nice koi pond . xxmaj what is surprises me the most is how empty the place seems to be at any hour . i never have to wait for a table , and even with four or five other parties , the place feels large and can fit many more . \n",
       " \n",
       "  i will continue to eat at xxmaj golden xxmaj dragon , though they may not be the best out there , you certainly can feel and taste they try their hardest to be .\n",
       "y: CategoryList\n",
       "4,5,3,2,4\n",
       "Path: .;\n",
       "\n",
       "Test: None, model=SequentialRNN(\n",
       "  (0): MultiBatchEncoder(\n",
       "    (module): AWD_LSTM(\n",
       "      (encoder): Embedding(31672, 400, padding_idx=1)\n",
       "      (encoder_dp): EmbeddingDropout(\n",
       "        (emb): Embedding(31672, 400, padding_idx=1)\n",
       "      )\n",
       "      (rnns): ModuleList(\n",
       "        (0): WeightDropout(\n",
       "          (module): LSTM(400, 1152, batch_first=True)\n",
       "        )\n",
       "        (1): WeightDropout(\n",
       "          (module): LSTM(1152, 1152, batch_first=True)\n",
       "        )\n",
       "        (2): WeightDropout(\n",
       "          (module): LSTM(1152, 400, batch_first=True)\n",
       "        )\n",
       "      )\n",
       "      (input_dp): RNNDropout()\n",
       "      (hidden_dps): ModuleList(\n",
       "        (0): RNNDropout()\n",
       "        (1): RNNDropout()\n",
       "        (2): RNNDropout()\n",
       "      )\n",
       "    )\n",
       "  )\n",
       "  (1): PoolingLinearClassifier(\n",
       "    (layers): Sequential(\n",
       "      (0): BatchNorm1d(1200, eps=1e-05, momentum=0.1, affine=True, track_running_stats=True)\n",
       "      (1): Dropout(p=0.2, inplace=False)\n",
       "      (2): Linear(in_features=1200, out_features=50, bias=True)\n",
       "      (3): ReLU(inplace=True)\n",
       "      (4): BatchNorm1d(50, eps=1e-05, momentum=0.1, affine=True, track_running_stats=True)\n",
       "      (5): Dropout(p=0.1, inplace=False)\n",
       "      (6): Linear(in_features=50, out_features=5, bias=True)\n",
       "    )\n",
       "  )\n",
       "), opt_func=functools.partial(<class 'torch.optim.adam.Adam'>, betas=(0.9, 0.99)), loss_func=FlattenedLoss of CrossEntropyLoss(), metrics=[<function accuracy at 0x7fc4c3261598>], true_wd=True, bn_wd=True, wd=0.01, train_bn=True, path=PosixPath('.'), model_dir='models', callback_fns=[functools.partial(<class 'fastai.basic_train.Recorder'>, add_time=True, silent=False)], callbacks=[...], layer_groups=[Sequential(\n",
       "  (0): Embedding(31672, 400, padding_idx=1)\n",
       "  (1): EmbeddingDropout(\n",
       "    (emb): Embedding(31672, 400, padding_idx=1)\n",
       "  )\n",
       "), Sequential(\n",
       "  (0): WeightDropout(\n",
       "    (module): LSTM(400, 1152, batch_first=True)\n",
       "  )\n",
       "  (1): RNNDropout()\n",
       "), Sequential(\n",
       "  (0): WeightDropout(\n",
       "    (module): LSTM(1152, 1152, batch_first=True)\n",
       "  )\n",
       "  (1): RNNDropout()\n",
       "), Sequential(\n",
       "  (0): WeightDropout(\n",
       "    (module): LSTM(1152, 400, batch_first=True)\n",
       "  )\n",
       "  (1): RNNDropout()\n",
       "), Sequential(\n",
       "  (0): PoolingLinearClassifier(\n",
       "    (layers): Sequential(\n",
       "      (0): BatchNorm1d(1200, eps=1e-05, momentum=0.1, affine=True, track_running_stats=True)\n",
       "      (1): Dropout(p=0.2, inplace=False)\n",
       "      (2): Linear(in_features=1200, out_features=50, bias=True)\n",
       "      (3): ReLU(inplace=True)\n",
       "      (4): BatchNorm1d(50, eps=1e-05, momentum=0.1, affine=True, track_running_stats=True)\n",
       "      (5): Dropout(p=0.1, inplace=False)\n",
       "      (6): Linear(in_features=50, out_features=5, bias=True)\n",
       "    )\n",
       "  )\n",
       ")], add_time=True, silent=False)\n",
       "alpha: 2.0\n",
       "beta: 1.0], layer_groups=[Sequential(\n",
       "  (0): Embedding(31672, 400, padding_idx=1)\n",
       "  (1): EmbeddingDropout(\n",
       "    (emb): Embedding(31672, 400, padding_idx=1)\n",
       "  )\n",
       "), Sequential(\n",
       "  (0): WeightDropout(\n",
       "    (module): LSTM(400, 1152, batch_first=True)\n",
       "  )\n",
       "  (1): RNNDropout()\n",
       "), Sequential(\n",
       "  (0): WeightDropout(\n",
       "    (module): LSTM(1152, 1152, batch_first=True)\n",
       "  )\n",
       "  (1): RNNDropout()\n",
       "), Sequential(\n",
       "  (0): WeightDropout(\n",
       "    (module): LSTM(1152, 400, batch_first=True)\n",
       "  )\n",
       "  (1): RNNDropout()\n",
       "), Sequential(\n",
       "  (0): PoolingLinearClassifier(\n",
       "    (layers): Sequential(\n",
       "      (0): BatchNorm1d(1200, eps=1e-05, momentum=0.1, affine=True, track_running_stats=True)\n",
       "      (1): Dropout(p=0.2, inplace=False)\n",
       "      (2): Linear(in_features=1200, out_features=50, bias=True)\n",
       "      (3): ReLU(inplace=True)\n",
       "      (4): BatchNorm1d(50, eps=1e-05, momentum=0.1, affine=True, track_running_stats=True)\n",
       "      (5): Dropout(p=0.1, inplace=False)\n",
       "      (6): Linear(in_features=50, out_features=5, bias=True)\n",
       "    )\n",
       "  )\n",
       ")], add_time=True, silent=False)"
      ]
     },
     "execution_count": 17,
     "metadata": {
      "tags": []
     },
     "output_type": "execute_result"
    }
   ],
   "source": [
    "# Building a classifier with the same architechure and weights as the language model trained above\n",
    "classifier = text_classifier_learner(data_clas, drop_mult=0.5, arch=AWD_LSTM)\n",
    "classifier.load_encoder('fine_enc')"
   ]
  },
  {
   "cell_type": "markdown",
   "metadata": {},
   "source": [
    "lr_find helps to fing a learning rate over iterations\n",
    "Explores from start_lr(1e-07) to end_lr(10) over num_it iterations(100) in learn, stops when loss diverges.\n",
    "\n",
    "Ref https://docs.fast.ai/basic_train.html#lr_find"
   ]
  },
  {
   "cell_type": "code",
   "execution_count": 18,
   "metadata": {
    "colab": {
     "base_uri": "https://localhost:8080/",
     "height": 297
    },
    "colab_type": "code",
    "executionInfo": {
     "elapsed": 77289,
     "status": "ok",
     "timestamp": 1572089350477,
     "user": {
      "displayName": "Stephy James",
      "photoUrl": "https://lh3.googleusercontent.com/a-/AAuE7mCx90s9MUV40xM3HU_rxqDTKFRecO9tO7D6M0CeRw=s64",
      "userId": "14885810046538283826"
     },
     "user_tz": -660
    },
    "id": "EzT5o_KPF05q",
    "outputId": "34482224-6902-497f-84ed-a02065665d2e"
   },
   "outputs": [
    {
     "data": {
      "text/html": [],
      "text/plain": [
       "<IPython.core.display.HTML object>"
      ]
     },
     "metadata": {
      "tags": []
     },
     "output_type": "display_data"
    },
    {
     "name": "stdout",
     "output_type": "stream",
     "text": [
      "LR Finder is complete, type {learner_name}.recorder.plot() to see the graph.\n"
     ]
    },
    {
     "data": {
      "image/png": "[encoded data removed]",
      "text/plain": [
       "<Figure size 432x288 with 1 Axes>"
      ]
     },
     "metadata": {
      "tags": []
     },
     "output_type": "display_data"
    }
   ],
   "source": [
    "classifier.lr_find()\n",
    "classifier.recorder.plot()"
   ]
  },
  {
   "cell_type": "markdown",
   "metadata": {},
   "source": [
    "Fitting one cycle with momentum which often improves both training speed and accuracy."
   ]
  },
  {
   "cell_type": "code",
   "execution_count": 19,
   "metadata": {
    "colab": {
     "base_uri": "https://localhost:8080/",
     "height": 79
    },
    "colab_type": "code",
    "executionInfo": {
     "elapsed": 389132,
     "status": "ok",
     "timestamp": 1572089748414,
     "user": {
      "displayName": "Stephy James",
      "photoUrl": "https://lh3.googleusercontent.com/a-/AAuE7mCx90s9MUV40xM3HU_rxqDTKFRecO9tO7D6M0CeRw=s64",
      "userId": "14885810046538283826"
     },
     "user_tz": -660
    },
    "id": "Y-OcjitLhVan",
    "outputId": "0e63443c-ed2c-4b53-fe3f-df6cf7996030"
   },
   "outputs": [
    {
     "data": {
      "text/html": [
       "<table border=\"1\" class=\"dataframe\">\n",
       "  <thead>\n",
       "    <tr style=\"text-align: left;\">\n",
       "      <th>epoch</th>\n",
       "      <th>train_loss</th>\n",
       "      <th>valid_loss</th>\n",
       "      <th>accuracy</th>\n",
       "      <th>time</th>\n",
       "    </tr>\n",
       "  </thead>\n",
       "  <tbody>\n",
       "    <tr>\n",
       "      <td>0</td>\n",
       "      <td>0.959569</td>\n",
       "      <td>0.879461</td>\n",
       "      <td>0.620000</td>\n",
       "      <td>06:28</td>\n",
       "    </tr>\n",
       "  </tbody>\n",
       "</table>"
      ],
      "text/plain": [
       "<IPython.core.display.HTML object>"
      ]
     },
     "metadata": {
      "tags": []
     },
     "output_type": "display_data"
    }
   ],
   "source": [
    "classifier.fit_one_cycle(1, 1e-2, moms=(0.8, 0.7))"
   ]
  },
  {
   "cell_type": "code",
   "execution_count": 20,
   "metadata": {
    "colab": {
     "base_uri": "https://localhost:8080/",
     "height": 279
    },
    "colab_type": "code",
    "executionInfo": {
     "elapsed": 1592,
     "status": "ok",
     "timestamp": 1572089791847,
     "user": {
      "displayName": "Stephy James",
      "photoUrl": "https://lh3.googleusercontent.com/a-/AAuE7mCx90s9MUV40xM3HU_rxqDTKFRecO9tO7D6M0CeRw=s64",
      "userId": "14885810046538283826"
     },
     "user_tz": -660
    },
    "id": "-6qkDdgrjv4S",
    "outputId": "23125f1f-4939-4a39-d8db-b4e52aefb729"
   },
   "outputs": [
    {
     "data": {
      "image/png": "[encoded data removed]",
      "text/plain": [
       "<Figure size 432x288 with 1 Axes>"
      ]
     },
     "metadata": {
      "tags": []
     },
     "output_type": "display_data"
    }
   ],
   "source": [
    "classifier.recorder.plot_losses()"
   ]
  },
  {
   "cell_type": "markdown",
   "metadata": {},
   "source": [
    "In the below steps the same steps are performed again with the aim of improving accuracy as per the hyperparameter tuning techinques suggested in the ULMFit paper. \n",
    "This includes\n",
    "1. Dicriminative learning rate\n",
    "2. One cycle learning\n",
    "3. Gradual unfreezing\n",
    "\n",
    "The details can be found at \n",
    "https://arxiv.org/pdf/1801.06146.pdf\n",
    "\n"
   ]
  },
  {
   "cell_type": "code",
   "execution_count": 21,
   "metadata": {
    "colab": {
     "base_uri": "https://localhost:8080/",
     "height": 297
    },
    "colab_type": "code",
    "executionInfo": {
     "elapsed": 31588,
     "status": "ok",
     "timestamp": 1572089824507,
     "user": {
      "displayName": "Stephy James",
      "photoUrl": "https://lh3.googleusercontent.com/a-/AAuE7mCx90s9MUV40xM3HU_rxqDTKFRecO9tO7D6M0CeRw=s64",
      "userId": "14885810046538283826"
     },
     "user_tz": -660
    },
    "id": "jtb5Cqjfjv7J",
    "outputId": "9bd771cc-cea5-4404-c3c5-13e7301e3266"
   },
   "outputs": [
    {
     "data": {
      "text/html": [],
      "text/plain": [
       "<IPython.core.display.HTML object>"
      ]
     },
     "metadata": {
      "tags": []
     },
     "output_type": "display_data"
    },
    {
     "name": "stdout",
     "output_type": "stream",
     "text": [
      "LR Finder is complete, type {learner_name}.recorder.plot() to see the graph.\n"
     ]
    },
    {
     "data": {
      "image/png": "[encoded data removed]",
      "text/plain": [
       "<Figure size 432x288 with 1 Axes>"
      ]
     },
     "metadata": {
      "tags": []
     },
     "output_type": "display_data"
    }
   ],
   "source": [
    "classifier = text_classifier_learner(data_clas, drop_mult=0.5, arch=AWD_LSTM)\n",
    "classifier.load_encoder('fine_enc')\n",
    "classifier.lr_find()\n",
    "classifier.recorder.plot()"
   ]
  },
  {
   "cell_type": "code",
   "execution_count": 22,
   "metadata": {
    "colab": {
     "base_uri": "https://localhost:8080/",
     "height": 79
    },
    "colab_type": "code",
    "executionInfo": {
     "elapsed": 419590,
     "status": "ok",
     "timestamp": 1572090215303,
     "user": {
      "displayName": "Stephy James",
      "photoUrl": "https://lh3.googleusercontent.com/a-/AAuE7mCx90s9MUV40xM3HU_rxqDTKFRecO9tO7D6M0CeRw=s64",
      "userId": "14885810046538283826"
     },
     "user_tz": -660
    },
    "id": "Wx8K_6mtjv-B",
    "outputId": "5f49056b-9832-4ddf-d9f2-4348eefed953"
   },
   "outputs": [
    {
     "data": {
      "text/html": [
       "<table border=\"1\" class=\"dataframe\">\n",
       "  <thead>\n",
       "    <tr style=\"text-align: left;\">\n",
       "      <th>epoch</th>\n",
       "      <th>train_loss</th>\n",
       "      <th>valid_loss</th>\n",
       "      <th>accuracy</th>\n",
       "      <th>time</th>\n",
       "    </tr>\n",
       "  </thead>\n",
       "  <tbody>\n",
       "    <tr>\n",
       "      <td>0</td>\n",
       "      <td>0.987827</td>\n",
       "      <td>0.873091</td>\n",
       "      <td>0.623600</td>\n",
       "      <td>06:31</td>\n",
       "    </tr>\n",
       "  </tbody>\n",
       "</table>"
      ],
      "text/plain": [
       "<IPython.core.display.HTML object>"
      ]
     },
     "metadata": {
      "tags": []
     },
     "output_type": "display_data"
    }
   ],
   "source": [
    "classifier.fit_one_cycle(1, slice(1e-4, 1e-2), moms=(0.8, 0.7))"
   ]
  },
  {
   "cell_type": "code",
   "execution_count": 23,
   "metadata": {
    "colab": {
     "base_uri": "https://localhost:8080/",
     "height": 299
    },
    "colab_type": "code",
    "executionInfo": {
     "elapsed": 415735,
     "status": "ok",
     "timestamp": 1572090215963,
     "user": {
      "displayName": "Stephy James",
      "photoUrl": "https://lh3.googleusercontent.com/a-/AAuE7mCx90s9MUV40xM3HU_rxqDTKFRecO9tO7D6M0CeRw=s64",
      "userId": "14885810046538283826"
     },
     "user_tz": -660
    },
    "id": "lgiwWN2CjwAi",
    "outputId": "43cbaa98-175a-49f7-b49d-5e331eff4534"
   },
   "outputs": [
    {
     "data": {
      "image/png": "[encoded data removed]",
      "text/plain": [
       "<Figure size 864x288 with 2 Axes>"
      ]
     },
     "metadata": {
      "tags": []
     },
     "output_type": "display_data"
    }
   ],
   "source": [
    "classifier.recorder.plot_lr(show_moms=True)"
   ]
  },
  {
   "cell_type": "code",
   "execution_count": 24,
   "metadata": {
    "colab": {
     "base_uri": "https://localhost:8080/",
     "height": 297
    },
    "colab_type": "code",
    "executionInfo": {
     "elapsed": 409848,
     "status": "ok",
     "timestamp": 1572090249076,
     "user": {
      "displayName": "Stephy James",
      "photoUrl": "https://lh3.googleusercontent.com/a-/AAuE7mCx90s9MUV40xM3HU_rxqDTKFRecO9tO7D6M0CeRw=s64",
      "userId": "14885810046538283826"
     },
     "user_tz": -660
    },
    "id": "HvofUfrrjwDh",
    "outputId": "9b5aedbd-1a45-4a9a-87cc-3ff168c732f6"
   },
   "outputs": [
    {
     "data": {
      "text/html": [],
      "text/plain": [
       "<IPython.core.display.HTML object>"
      ]
     },
     "metadata": {
      "tags": []
     },
     "output_type": "display_data"
    },
    {
     "name": "stdout",
     "output_type": "stream",
     "text": [
      "LR Finder is complete, type {learner_name}.recorder.plot() to see the graph.\n"
     ]
    },
    {
     "data": {
      "image/png": "[encoded data removed]",
      "text/plain": [
       "<Figure size 432x288 with 1 Axes>"
      ]
     },
     "metadata": {
      "tags": []
     },
     "output_type": "display_data"
    }
   ],
   "source": [
    "classifier = text_classifier_learner(data_clas, drop_mult=0.5, arch=AWD_LSTM)\n",
    "classifier.load_encoder('fine_enc')\n",
    "classifier.lr_find()\n",
    "classifier.recorder.plot()"
   ]
  },
  {
   "cell_type": "code",
   "execution_count": 25,
   "metadata": {
    "colab": {
     "base_uri": "https://localhost:8080/",
     "height": 79
    },
    "colab_type": "code",
    "executionInfo": {
     "elapsed": 796737,
     "status": "ok",
     "timestamp": 1572090640259,
     "user": {
      "displayName": "Stephy James",
      "photoUrl": "https://lh3.googleusercontent.com/a-/AAuE7mCx90s9MUV40xM3HU_rxqDTKFRecO9tO7D6M0CeRw=s64",
      "userId": "14885810046538283826"
     },
     "user_tz": -660
    },
    "id": "vi6ZzH_qjwGi",
    "outputId": "d66cb576-b0d6-4d06-b8b0-2e60900c38d7"
   },
   "outputs": [
    {
     "data": {
      "text/html": [
       "<table border=\"1\" class=\"dataframe\">\n",
       "  <thead>\n",
       "    <tr style=\"text-align: left;\">\n",
       "      <th>epoch</th>\n",
       "      <th>train_loss</th>\n",
       "      <th>valid_loss</th>\n",
       "      <th>accuracy</th>\n",
       "      <th>time</th>\n",
       "    </tr>\n",
       "  </thead>\n",
       "  <tbody>\n",
       "    <tr>\n",
       "      <td>0</td>\n",
       "      <td>0.987648</td>\n",
       "      <td>0.879144</td>\n",
       "      <td>0.623100</td>\n",
       "      <td>06:31</td>\n",
       "    </tr>\n",
       "  </tbody>\n",
       "</table>"
      ],
      "text/plain": [
       "<IPython.core.display.HTML object>"
      ]
     },
     "metadata": {
      "tags": []
     },
     "output_type": "display_data"
    }
   ],
   "source": [
    "classifier.freeze_to(-1)\n",
    "classifier.fit_one_cycle(1, 1e-2, moms=(0.8, 0.7))"
   ]
  },
  {
   "cell_type": "code",
   "execution_count": 26,
   "metadata": {
    "colab": {
     "base_uri": "https://localhost:8080/",
     "height": 79
    },
    "colab_type": "code",
    "executionInfo": {
     "elapsed": 676465,
     "status": "ok",
     "timestamp": 1572091097349,
     "user": {
      "displayName": "Stephy James",
      "photoUrl": "https://lh3.googleusercontent.com/a-/AAuE7mCx90s9MUV40xM3HU_rxqDTKFRecO9tO7D6M0CeRw=s64",
      "userId": "14885810046538283826"
     },
     "user_tz": -660
    },
    "id": "b_s-0jTXjwJZ",
    "outputId": "878f2f11-a41b-403d-af07-27cf6bbd24bf"
   },
   "outputs": [
    {
     "data": {
      "text/html": [
       "<table border=\"1\" class=\"dataframe\">\n",
       "  <thead>\n",
       "    <tr style=\"text-align: left;\">\n",
       "      <th>epoch</th>\n",
       "      <th>train_loss</th>\n",
       "      <th>valid_loss</th>\n",
       "      <th>accuracy</th>\n",
       "      <th>time</th>\n",
       "    </tr>\n",
       "  </thead>\n",
       "  <tbody>\n",
       "    <tr>\n",
       "      <td>0</td>\n",
       "      <td>0.923519</td>\n",
       "      <td>0.822100</td>\n",
       "      <td>0.642800</td>\n",
       "      <td>07:37</td>\n",
       "    </tr>\n",
       "  </tbody>\n",
       "</table>"
      ],
      "text/plain": [
       "<IPython.core.display.HTML object>"
      ]
     },
     "metadata": {
      "tags": []
     },
     "output_type": "display_data"
    }
   ],
   "source": [
    "classifier.unfreeze()\n",
    "classifier.freeze_to(-2)\n",
    "classifier.fit_one_cycle(1, slice(1e-4, 5e-3), moms=(0.8, 0.7))"
   ]
  },
  {
   "cell_type": "code",
   "execution_count": 27,
   "metadata": {
    "colab": {
     "base_uri": "https://localhost:8080/",
     "height": 79
    },
    "colab_type": "code",
    "executionInfo": {
     "elapsed": 1352650,
     "status": "ok",
     "timestamp": 1572091779609,
     "user": {
      "displayName": "Stephy James",
      "photoUrl": "https://lh3.googleusercontent.com/a-/AAuE7mCx90s9MUV40xM3HU_rxqDTKFRecO9tO7D6M0CeRw=s64",
      "userId": "14885810046538283826"
     },
     "user_tz": -660
    },
    "id": "JWWw-boCjwMJ",
    "outputId": "84818335-f8f8-43ba-97a7-fa18996cd428"
   },
   "outputs": [
    {
     "data": {
      "text/html": [
       "<table border=\"1\" class=\"dataframe\">\n",
       "  <thead>\n",
       "    <tr style=\"text-align: left;\">\n",
       "      <th>epoch</th>\n",
       "      <th>train_loss</th>\n",
       "      <th>valid_loss</th>\n",
       "      <th>accuracy</th>\n",
       "      <th>time</th>\n",
       "    </tr>\n",
       "  </thead>\n",
       "  <tbody>\n",
       "    <tr>\n",
       "      <td>0</td>\n",
       "      <td>0.857015</td>\n",
       "      <td>0.807079</td>\n",
       "      <td>0.649300</td>\n",
       "      <td>11:21</td>\n",
       "    </tr>\n",
       "  </tbody>\n",
       "</table>"
      ],
      "text/plain": [
       "<IPython.core.display.HTML object>"
      ]
     },
     "metadata": {
      "tags": []
     },
     "output_type": "display_data"
    }
   ],
   "source": [
    "classifier.unfreeze()\n",
    "classifier.freeze_to(-3)\n",
    "classifier.fit_one_cycle(1, slice(1e-5, 1e-3), moms=(0.8, 0.7))"
   ]
  },
  {
   "cell_type": "code",
   "execution_count": 28,
   "metadata": {
    "colab": {
     "base_uri": "https://localhost:8080/",
     "height": 79
    },
    "colab_type": "code",
    "executionInfo": {
     "elapsed": 2238763,
     "status": "ok",
     "timestamp": 1572092668339,
     "user": {
      "displayName": "Stephy James",
      "photoUrl": "https://lh3.googleusercontent.com/a-/AAuE7mCx90s9MUV40xM3HU_rxqDTKFRecO9tO7D6M0CeRw=s64",
      "userId": "14885810046538283826"
     },
     "user_tz": -660
    },
    "id": "HLFa0U9ljwPQ",
    "outputId": "a0e58b58-78de-464d-b0bc-cff4443b5be0"
   },
   "outputs": [
    {
     "data": {
      "text/html": [
       "<table border=\"1\" class=\"dataframe\">\n",
       "  <thead>\n",
       "    <tr style=\"text-align: left;\">\n",
       "      <th>epoch</th>\n",
       "      <th>train_loss</th>\n",
       "      <th>valid_loss</th>\n",
       "      <th>accuracy</th>\n",
       "      <th>time</th>\n",
       "    </tr>\n",
       "  </thead>\n",
       "  <tbody>\n",
       "    <tr>\n",
       "      <td>0</td>\n",
       "      <td>0.852648</td>\n",
       "      <td>0.799936</td>\n",
       "      <td>0.652600</td>\n",
       "      <td>14:49</td>\n",
       "    </tr>\n",
       "  </tbody>\n",
       "</table>"
      ],
      "text/plain": [
       "<IPython.core.display.HTML object>"
      ]
     },
     "metadata": {
      "tags": []
     },
     "output_type": "display_data"
    }
   ],
   "source": [
    "classifier.unfreeze()\n",
    "classifier.fit_one_cycle(1, slice(1e-4/100., 1e-4), moms=(0.8, 0.7))"
   ]
  },
  {
   "cell_type": "markdown",
   "metadata": {},
   "source": [
    "### Section 4 - Results "
   ]
  },
  {
   "cell_type": "code",
   "execution_count": 0,
   "metadata": {
    "colab": {},
    "colab_type": "code",
    "id": "ZOloC7gCjwSZ"
   },
   "outputs": [],
   "source": [
    "preds, y, losses = classifier.get_preds(with_loss=True)"
   ]
  },
  {
   "cell_type": "code",
   "execution_count": 0,
   "metadata": {
    "colab": {},
    "colab_type": "code",
    "id": "DESddHho00jD"
   },
   "outputs": [],
   "source": [
    "interp = ClassificationInterpretation(losses=losses, y_true=y, preds=preds, learn=classifier)"
   ]
  },
  {
   "cell_type": "code",
   "execution_count": 31,
   "metadata": {
    "colab": {
     "base_uri": "https://localhost:8080/",
     "height": 311
    },
    "colab_type": "code",
    "executionInfo": {
     "elapsed": 2302660,
     "status": "ok",
     "timestamp": 1572092741794,
     "user": {
      "displayName": "Stephy James",
      "photoUrl": "https://lh3.googleusercontent.com/a-/AAuE7mCx90s9MUV40xM3HU_rxqDTKFRecO9tO7D6M0CeRw=s64",
      "userId": "14885810046538283826"
     },
     "user_tz": -660
    },
    "id": "Bi6rfm9E00lx",
    "outputId": "1aecffd8-3aeb-4b3c-edc2-533fb0e8d8e8"
   },
   "outputs": [
    {
     "data": {
      "image/png": "[encoded data removed]",
      "text/plain": [
       "<Figure size 432x288 with 1 Axes>"
      ]
     },
     "metadata": {
      "tags": []
     },
     "output_type": "display_data"
    }
   ],
   "source": [
    "interp.plot_confusion_matrix()"
   ]
  },
  {
   "cell_type": "markdown",
   "metadata": {},
   "source": [
    "A few sentences have been tested below "
   ]
  },
  {
   "cell_type": "code",
   "execution_count": 37,
   "metadata": {
    "colab": {
     "base_uri": "https://localhost:8080/",
     "height": 661
    },
    "colab_type": "code",
    "executionInfo": {
     "elapsed": 1507,
     "status": "ok",
     "timestamp": 1572092885122,
     "user": {
      "displayName": "Stephy James",
      "photoUrl": "https://lh3.googleusercontent.com/a-/AAuE7mCx90s9MUV40xM3HU_rxqDTKFRecO9tO7D6M0CeRw=s64",
      "userId": "14885810046538283826"
     },
     "user_tz": -660
    },
    "id": "egcLO9b2vmET",
    "outputId": "0b0d3c15-1578-475d-c76a-307bde51f636"
   },
   "outputs": [
    {
     "name": "stdout",
     "output_type": "stream",
     "text": [
      "The pool was 10 times dirty \n",
      "=== Predicted: (Category 2, tensor(1), tensor([0.2626, 0.3502, 0.1818, 0.1291, 0.0763]))\n",
      "\n",
      "5 stars \n",
      "=== Predicted: (Category 3, tensor(2), tensor([0.0080, 0.1312, 0.4948, 0.2718, 0.0941]))\n",
      "\n",
      ":-( \n",
      "=== Predicted: (Category 2, tensor(1), tensor([0.2942, 0.3959, 0.1394, 0.0817, 0.0888]))\n",
      "\n",
      "confused \n",
      "=== Predicted: (Category 3, tensor(2), tensor([0.1919, 0.3519, 0.3736, 0.0712, 0.0114]))\n",
      "\n",
      "Loved our stay in this hotel The rooms were amazingly confortable \n",
      "=== Predicted: (Category 5, tensor(4), tensor([0.0011, 0.0026, 0.0098, 0.1858, 0.8007]))\n",
      "\n",
      "water was cold and the room not isolated at all \n",
      "=== Predicted: (Category 1, tensor(0), tensor([0.5890, 0.3406, 0.0651, 0.0045, 0.0008]))\n",
      "\n",
      "could have been better \n",
      "=== Predicted: (Category 2, tensor(1), tensor([0.2776, 0.5123, 0.1386, 0.0469, 0.0246]))\n",
      "\n",
      "Staff was amazing \n",
      "=== Predicted: (Category 5, tensor(4), tensor([0.0888, 0.2686, 0.1606, 0.1719, 0.3101]))\n",
      "\n",
      " \n",
      "=== Predicted: (Category 2, tensor(1), tensor([0.2142, 0.4097, 0.2027, 0.1120, 0.0614]))\n",
      "\n",
      "Staff was amazing food was bad \n",
      "=== Predicted: (Category 5, tensor(4), tensor([0.0344, 0.2329, 0.2441, 0.2120, 0.2767]))\n",
      "\n",
      "Staff was amazing 123 :-) @super #loveitFood was great \n",
      "=== Predicted: (Category 5, tensor(4), tensor([0.0271, 0.0921, 0.0926, 0.2116, 0.5766]))\n",
      "\n",
      "Food was not bad \n",
      "=== Predicted: (Category 2, tensor(1), tensor([4.7715e-02, 6.2931e-01, 3.2040e-01, 2.4146e-03, 1.6866e-04]))\n",
      "\n"
     ]
    }
   ],
   "source": [
    "rev = [\n",
    "    'The pool was 10 times dirty',\n",
    "    '5 stars',\n",
    "    ':-(',\n",
    "    'confused',\n",
    "    'Loved our stay in this hotel The rooms were amazingly confortable',\n",
    "    'water was cold and the room not isolated at all', \n",
    "    'could have been better',\n",
    "    'Staff was amazing',\n",
    "    '',\n",
    "    'Staff was amazing food was bad',\n",
    "    'Staff was amazing 123 :-) @super #loveit'\n",
    "    'Food was great',\n",
    "    'Food was not bad'\n",
    "]\n",
    "\n",
    "for s in rev:\n",
    "    print(s, '\\n=== Predicted:', classifier.predict(s))\n",
    "    print()"
   ]
  },
  {
   "cell_type": "markdown",
   "metadata": {},
   "source": [
    "The below steps are exporting and importing of the model (specific to Colab)"
   ]
  },
  {
   "cell_type": "code",
   "execution_count": 0,
   "metadata": {
    "colab": {},
    "colab_type": "code",
    "id": "SlIiAYKCK2-R"
   },
   "outputs": [],
   "source": [
    "classifier.export()"
   ]
  },
  {
   "cell_type": "code",
   "execution_count": 0,
   "metadata": {
    "colab": {},
    "colab_type": "code",
    "id": "tKkaTCmX7l86"
   },
   "outputs": [],
   "source": [
    "#upload and change name of clasifier as export\n",
    "from pathlib import Path"
   ]
  },
  {
   "cell_type": "code",
   "execution_count": 0,
   "metadata": {
    "colab": {},
    "colab_type": "code",
    "id": "5ScSnMmE7mdL"
   },
   "outputs": [],
   "source": [
    "x = Path('.')"
   ]
  },
  {
   "cell_type": "code",
   "execution_count": 19,
   "metadata": {
    "colab": {
     "base_uri": "https://localhost:8080/",
     "height": 35
    },
    "colab_type": "code",
    "executionInfo": {
     "elapsed": 698,
     "status": "ok",
     "timestamp": 1572125818874,
     "user": {
      "displayName": "Stephy James",
      "photoUrl": "https://lh3.googleusercontent.com/a-/AAuE7mCx90s9MUV40xM3HU_rxqDTKFRecO9tO7D6M0CeRw=s64",
      "userId": "14885810046538283826"
     },
     "user_tz": -660
    },
    "id": "qPoDDY9SACyg",
    "outputId": "cf20a488-97dc-4f56-9c30-5bfae80e79d2"
   },
   "outputs": [
    {
     "data": {
      "text/plain": [
       "PosixPath('.')"
      ]
     },
     "execution_count": 19,
     "metadata": {
      "tags": []
     },
     "output_type": "execute_result"
    }
   ],
   "source": [
    "x"
   ]
  },
  {
   "cell_type": "code",
   "execution_count": 0,
   "metadata": {
    "colab": {},
    "colab_type": "code",
    "id": "__kd8ZYwAC3Z"
   },
   "outputs": [],
   "source": [
    "#Reloading the classifier\n",
    "classifier = load_learner(x)"
   ]
  },
  {
   "cell_type": "code",
   "execution_count": 0,
   "metadata": {
    "colab": {},
    "colab_type": "code",
    "id": "8VQIoTnLvmKf"
   },
   "outputs": [],
   "source": [
    "# do not run this except if you want the predict results from the model trained on labelled data alone\n",
    "#test_data = pd.read_csv('/content/drive/My Drive/Colab Notebooks/test_data.csv')"
   ]
  },
  {
   "cell_type": "code",
   "execution_count": 0,
   "metadata": {
    "colab": {},
    "colab_type": "code",
    "id": "nWaycZicvmHf"
   },
   "outputs": [],
   "source": [
    "# do not run this except if you want the predict results from the model trained on labelled data alone\n",
    "#test_sub = pd.DataFrame(test_data, columns=(\"test_id\", \"text\", \"label\"))\n",
    "#for i in range(0,len(test_sub)):\n",
    "#  predict_for = test_sub.iloc[i,1]\n",
    "#  test_sub.iloc[i,2] = classifier.predict(predict_for)[0]\n",
    "  \n",
    "  \n",
    "#test_sub.to_csv('result1.csv',index=False)\n",
    "#test_sub.to_csv('/content/drive/My Drive/Colab Notebooks/result2.csv',index=False)\n",
    "\n",
    "#test_sub.head()"
   ]
  },
  {
   "cell_type": "markdown",
   "metadata": {
    "colab": {},
    "colab_type": "code",
    "id": "iLWtM9JsAC8U"
   },
   "source": [
    "We can use this model to run the test data but we have beed provided with 600k unlabelled data which we can use to improve the model "
   ]
  },
  {
   "cell_type": "markdown",
   "metadata": {},
   "source": [
    "### Section 5 - Semi supervised learning "
   ]
  },
  {
   "cell_type": "markdown",
   "metadata": {
    "colab": {},
    "colab_type": "code",
    "id": "tzYwg1P759Dx"
   },
   "source": [
    "The approach used is such that the unlabelled data is sampled in two bits and then the sampled data is used for prediction\n",
    "Only the labels that are predicted with >.80 confidence are re-used to train the whole above said model again "
   ]
  },
  {
   "cell_type": "code",
   "execution_count": 0,
   "metadata": {
    "colab": {},
    "colab_type": "code",
    "id": "kvIFTR-F-5Un"
   },
   "outputs": [],
   "source": [
    "#sample 50k points and run \n",
    "unlabelled_data = pd.read_csv('/content/drive/My Drive/Colab Notebooks/unlabeled_data.csv')"
   ]
  },
  {
   "cell_type": "code",
   "execution_count": 25,
   "metadata": {
    "colab": {
     "base_uri": "https://localhost:8080/",
     "height": 202
    },
    "colab_type": "code",
    "executionInfo": {
     "elapsed": 2328,
     "status": "ok",
     "timestamp": 1572125928231,
     "user": {
      "displayName": "Stephy James",
      "photoUrl": "https://lh3.googleusercontent.com/a-/AAuE7mCx90s9MUV40xM3HU_rxqDTKFRecO9tO7D6M0CeRw=s64",
      "userId": "14885810046538283826"
     },
     "user_tz": -660
    },
    "id": "Zd5hqI1Jo45U",
    "outputId": "1bb14650-f8ca-4e1a-a839-e3562f68f83a"
   },
   "outputs": [
    {
     "data": {
      "text/html": [
       "<div>\n",
       "<style scoped>\n",
       "    .dataframe tbody tr th:only-of-type {\n",
       "        vertical-align: middle;\n",
       "    }\n",
       "\n",
       "    .dataframe tbody tr th {\n",
       "        vertical-align: top;\n",
       "    }\n",
       "\n",
       "    .dataframe thead th {\n",
       "        text-align: right;\n",
       "    }\n",
       "</style>\n",
       "<table border=\"1\" class=\"dataframe\">\n",
       "  <thead>\n",
       "    <tr style=\"text-align: right;\">\n",
       "      <th></th>\n",
       "      <th>text</th>\n",
       "      <th>label</th>\n",
       "      <th>pvalue</th>\n",
       "    </tr>\n",
       "  </thead>\n",
       "  <tbody>\n",
       "    <tr>\n",
       "      <th>331937</th>\n",
       "      <td>It's New Year's Eve. Earnest has a special (an...</td>\n",
       "      <td>0</td>\n",
       "      <td>0</td>\n",
       "    </tr>\n",
       "    <tr>\n",
       "      <th>476678</th>\n",
       "      <td>Went with my mom for a quick lunch as we were ...</td>\n",
       "      <td>0</td>\n",
       "      <td>0</td>\n",
       "    </tr>\n",
       "    <tr>\n",
       "      <th>340956</th>\n",
       "      <td>Aside from all the other reviews, this has to ...</td>\n",
       "      <td>0</td>\n",
       "      <td>0</td>\n",
       "    </tr>\n",
       "    <tr>\n",
       "      <th>565239</th>\n",
       "      <td>I went to the Rio Seafood Buffet last August a...</td>\n",
       "      <td>0</td>\n",
       "      <td>0</td>\n",
       "    </tr>\n",
       "    <tr>\n",
       "      <th>527963</th>\n",
       "      <td>Let's raise this up a star!!!\\r\\nMy last revie...</td>\n",
       "      <td>0</td>\n",
       "      <td>0</td>\n",
       "    </tr>\n",
       "  </tbody>\n",
       "</table>\n",
       "</div>"
      ],
      "text/plain": [
       "                                                     text label pvalue\n",
       "331937  It's New Year's Eve. Earnest has a special (an...     0      0\n",
       "476678  Went with my mom for a quick lunch as we were ...     0      0\n",
       "340956  Aside from all the other reviews, this has to ...     0      0\n",
       "565239  I went to the Rio Seafood Buffet last August a...     0      0\n",
       "527963  Let's raise this up a star!!!\\r\\nMy last revie...     0      0"
      ]
     },
     "execution_count": 25,
     "metadata": {
      "tags": []
     },
     "output_type": "execute_result"
    }
   ],
   "source": [
    "unlabelled_data1= unlabelled_data[0:300000]\n",
    "unlabelled_data2=unlabelled_data[300000:len(unlabelled_data)]\n",
    "\n",
    "sample1=unlabelled_data1.sample(50000)\n",
    "sample2=unlabelled_data2.sample(50000)\n"
   ]
  },
  {
   "cell_type": "code",
   "execution_count": 27,
   "metadata": {
    "colab": {
     "base_uri": "https://localhost:8080/",
     "height": 202
    },
    "colab_type": "code",
    "executionInfo": {
     "elapsed": 728,
     "status": "ok",
     "timestamp": 1572126287968,
     "user": {
      "displayName": "Stephy James",
      "photoUrl": "https://lh3.googleusercontent.com/a-/AAuE7mCx90s9MUV40xM3HU_rxqDTKFRecO9tO7D6M0CeRw=s64",
      "userId": "14885810046538283826"
     },
     "user_tz": -660
    },
    "id": "G2OPcw7tByb4",
    "outputId": "f661bbef-9ee6-4520-8187-f6fe0f07e999"
   },
   "outputs": [
    {
     "data": {
      "text/html": [
       "<div>\n",
       "<style scoped>\n",
       "    .dataframe tbody tr th:only-of-type {\n",
       "        vertical-align: middle;\n",
       "    }\n",
       "\n",
       "    .dataframe tbody tr th {\n",
       "        vertical-align: top;\n",
       "    }\n",
       "\n",
       "    .dataframe thead th {\n",
       "        text-align: right;\n",
       "    }\n",
       "</style>\n",
       "<table border=\"1\" class=\"dataframe\">\n",
       "  <thead>\n",
       "    <tr style=\"text-align: right;\">\n",
       "      <th></th>\n",
       "      <th>text</th>\n",
       "      <th>label</th>\n",
       "      <th>pvalue</th>\n",
       "    </tr>\n",
       "  </thead>\n",
       "  <tbody>\n",
       "    <tr>\n",
       "      <th>331937</th>\n",
       "      <td>It's New Year's Eve. Earnest has a special (an...</td>\n",
       "      <td>0</td>\n",
       "      <td>0</td>\n",
       "    </tr>\n",
       "    <tr>\n",
       "      <th>476678</th>\n",
       "      <td>Went with my mom for a quick lunch as we were ...</td>\n",
       "      <td>0</td>\n",
       "      <td>0</td>\n",
       "    </tr>\n",
       "    <tr>\n",
       "      <th>340956</th>\n",
       "      <td>Aside from all the other reviews, this has to ...</td>\n",
       "      <td>0</td>\n",
       "      <td>0</td>\n",
       "    </tr>\n",
       "    <tr>\n",
       "      <th>565239</th>\n",
       "      <td>I went to the Rio Seafood Buffet last August a...</td>\n",
       "      <td>0</td>\n",
       "      <td>0</td>\n",
       "    </tr>\n",
       "    <tr>\n",
       "      <th>527963</th>\n",
       "      <td>Let's raise this up a star!!!\\r\\nMy last revie...</td>\n",
       "      <td>0</td>\n",
       "      <td>0</td>\n",
       "    </tr>\n",
       "  </tbody>\n",
       "</table>\n",
       "</div>"
      ],
      "text/plain": [
       "                                                     text label pvalue\n",
       "331937  It's New Year's Eve. Earnest has a special (an...     0      0\n",
       "476678  Went with my mom for a quick lunch as we were ...     0      0\n",
       "340956  Aside from all the other reviews, this has to ...     0      0\n",
       "565239  I went to the Rio Seafood Buffet last August a...     0      0\n",
       "527963  Let's raise this up a star!!!\\r\\nMy last revie...     0      0"
      ]
     },
     "execution_count": 27,
     "metadata": {
      "tags": []
     },
     "output_type": "execute_result"
    }
   ],
   "source": [
    "sample1_sub = sample1\n",
    "sample1_sub['label']='0'\n",
    "sample1_sub['pvalue']='0'\n",
    "sample1_sub.head()\n",
    "\n",
    "sample2_sub = sample2\n",
    "sample2_sub['label']='0'\n",
    "sample2_sub['pvalue']='0'\n",
    "sample2_sub.head()"
   ]
  },
  {
   "cell_type": "code",
   "execution_count": 0,
   "metadata": {
    "colab": {},
    "colab_type": "code",
    "id": "gXJQqvuHEEIS"
   },
   "outputs": [],
   "source": [
    "\n",
    "for i in range(0,len(sample1_sub)):\n",
    "  for_predict = sample1_sub.iloc[i,0]\n",
    "  output=classifier.predict(for_predict)\n",
    "  sample1_sub.iloc[i,1] = output[0]\n",
    "  sample1_sub.iloc[i,2] = max(output[2])\n",
    "  \n",
    "sample1_sub.to_csv('unlabeled_result1.csv',index=False)"
   ]
  },
  {
   "cell_type": "code",
   "execution_count": 0,
   "metadata": {
    "colab": {},
    "colab_type": "code",
    "id": "VGM-yR84o48H"
   },
   "outputs": [],
   "source": [
    "\n",
    "for i in range(0,len(sample2_sub)):\n",
    "  for_predict = sample2_sub.iloc[i,0]\n",
    "  output=classifier.predict(for_predict)\n",
    "  sample2_sub.iloc[i,1] = output[0]\n",
    "  sample2_sub.iloc[i,2] = max(output[2])\n",
    "  \n",
    "sample2_sub.to_csv('unlabeled_result2.csv',index=False)"
   ]
  },
  {
   "cell_type": "code",
   "execution_count": 5,
   "metadata": {
    "colab": {
     "base_uri": "https://localhost:8080/",
     "height": 193
    },
    "colab_type": "code",
    "executionInfo": {
     "elapsed": 2093,
     "status": "ok",
     "timestamp": 1572123910167,
     "user": {
      "displayName": "Stephy James",
      "photoUrl": "https://lh3.googleusercontent.com/a-/AAuE7mCx90s9MUV40xM3HU_rxqDTKFRecO9tO7D6M0CeRw=s64",
      "userId": "14885810046538283826"
     },
     "user_tz": -660
    },
    "id": "qd4Ng3wT4c-R",
    "outputId": "6af44d38-73fe-4fc8-b1fe-0d580eab1ecc"
   },
   "outputs": [
    {
     "data": {
      "text/html": [
       "<div>\n",
       "<style scoped>\n",
       "    .dataframe tbody tr th:only-of-type {\n",
       "        vertical-align: middle;\n",
       "    }\n",
       "\n",
       "    .dataframe tbody tr th {\n",
       "        vertical-align: top;\n",
       "    }\n",
       "\n",
       "    .dataframe thead th {\n",
       "        text-align: right;\n",
       "    }\n",
       "</style>\n",
       "<table border=\"1\" class=\"dataframe\">\n",
       "  <thead>\n",
       "    <tr style=\"text-align: right;\">\n",
       "      <th></th>\n",
       "      <th>text</th>\n",
       "      <th>label</th>\n",
       "      <th>pvalue</th>\n",
       "    </tr>\n",
       "  </thead>\n",
       "  <tbody>\n",
       "    <tr>\n",
       "      <th>0</th>\n",
       "      <td>We have been going to this Chinese restaurant ...</td>\n",
       "      <td>5</td>\n",
       "      <td>(Category 5, tensor(4), tensor([0.0069, 0.0084...</td>\n",
       "    </tr>\n",
       "    <tr>\n",
       "      <th>1</th>\n",
       "      <td>Products frequently precipitate, orders are ne...</td>\n",
       "      <td>2</td>\n",
       "      <td>(Category 2, tensor(1), tensor([3.8954e-01, 5....</td>\n",
       "    </tr>\n",
       "    <tr>\n",
       "      <th>2</th>\n",
       "      <td>I have previously purchased some baked goods f...</td>\n",
       "      <td>1</td>\n",
       "      <td>(Category 1, tensor(0), tensor([0.7627, 0.2061...</td>\n",
       "    </tr>\n",
       "  </tbody>\n",
       "</table>\n",
       "</div>"
      ],
      "text/plain": [
       "                                                text  ...                                             pvalue\n",
       "0  We have been going to this Chinese restaurant ...  ...  (Category 5, tensor(4), tensor([0.0069, 0.0084...\n",
       "1  Products frequently precipitate, orders are ne...  ...  (Category 2, tensor(1), tensor([3.8954e-01, 5....\n",
       "2  I have previously purchased some baked goods f...  ...  (Category 1, tensor(0), tensor([0.7627, 0.2061...\n",
       "\n",
       "[3 rows x 3 columns]"
      ]
     },
     "execution_count": 5,
     "metadata": {
      "tags": []
     },
     "output_type": "execute_result"
    }
   ],
   "source": [
    "#sample1_sub = pd.read_csv('/content/drive/My Drive/Colab Notebooks/sample1_sub.csv')\n",
    "sample1_sub.head(3)"
   ]
  },
  {
   "cell_type": "code",
   "execution_count": 6,
   "metadata": {
    "colab": {
     "base_uri": "https://localhost:8080/",
     "height": 193
    },
    "colab_type": "code",
    "executionInfo": {
     "elapsed": 2546,
     "status": "ok",
     "timestamp": 1572123912249,
     "user": {
      "displayName": "Stephy James",
      "photoUrl": "https://lh3.googleusercontent.com/a-/AAuE7mCx90s9MUV40xM3HU_rxqDTKFRecO9tO7D6M0CeRw=s64",
      "userId": "14885810046538283826"
     },
     "user_tz": -660
    },
    "id": "uC-_m2Zb4kwI",
    "outputId": "a2abfb8a-483f-4fc1-f4e5-815df140cbbd"
   },
   "outputs": [
    {
     "data": {
      "text/html": [
       "<div>\n",
       "<style scoped>\n",
       "    .dataframe tbody tr th:only-of-type {\n",
       "        vertical-align: middle;\n",
       "    }\n",
       "\n",
       "    .dataframe tbody tr th {\n",
       "        vertical-align: top;\n",
       "    }\n",
       "\n",
       "    .dataframe thead th {\n",
       "        text-align: right;\n",
       "    }\n",
       "</style>\n",
       "<table border=\"1\" class=\"dataframe\">\n",
       "  <thead>\n",
       "    <tr style=\"text-align: right;\">\n",
       "      <th></th>\n",
       "      <th>text</th>\n",
       "      <th>label</th>\n",
       "      <th>pvalue</th>\n",
       "    </tr>\n",
       "  </thead>\n",
       "  <tbody>\n",
       "    <tr>\n",
       "      <th>0</th>\n",
       "      <td>Loved our lunch yesterday, but dinner was fair...</td>\n",
       "      <td>3</td>\n",
       "      <td>(Category 3, tensor(2), tensor([0.0036, 0.1173...</td>\n",
       "    </tr>\n",
       "    <tr>\n",
       "      <th>1</th>\n",
       "      <td>Honest and reliable. Never try to up sell or p...</td>\n",
       "      <td>5</td>\n",
       "      <td>(Category 5, tensor(4), tensor([0.0761, 0.0855...</td>\n",
       "    </tr>\n",
       "    <tr>\n",
       "      <th>2</th>\n",
       "      <td>Great service and great prices!  Fast response...</td>\n",
       "      <td>5</td>\n",
       "      <td>(Category 5, tensor(4), tensor([0.0070, 0.0037...</td>\n",
       "    </tr>\n",
       "  </tbody>\n",
       "</table>\n",
       "</div>"
      ],
      "text/plain": [
       "                                                text  ...                                             pvalue\n",
       "0  Loved our lunch yesterday, but dinner was fair...  ...  (Category 3, tensor(2), tensor([0.0036, 0.1173...\n",
       "1  Honest and reliable. Never try to up sell or p...  ...  (Category 5, tensor(4), tensor([0.0761, 0.0855...\n",
       "2  Great service and great prices!  Fast response...  ...  (Category 5, tensor(4), tensor([0.0070, 0.0037...\n",
       "\n",
       "[3 rows x 3 columns]"
      ]
     },
     "execution_count": 6,
     "metadata": {
      "tags": []
     },
     "output_type": "execute_result"
    }
   ],
   "source": [
    "#sample2_sub = pd.read_csv('/content/drive/My Drive/Colab Notebooks/sample2_sub.csv')\n",
    "sample2_sub.head(3)"
   ]
  },
  {
   "cell_type": "code",
   "execution_count": 66,
   "metadata": {
    "colab": {
     "base_uri": "https://localhost:8080/",
     "height": 35
    },
    "colab_type": "code",
    "executionInfo": {
     "elapsed": 2377,
     "status": "ok",
     "timestamp": 1572136336800,
     "user": {
      "displayName": "Stephy James",
      "photoUrl": "https://lh3.googleusercontent.com/a-/AAuE7mCx90s9MUV40xM3HU_rxqDTKFRecO9tO7D6M0CeRw=s64",
      "userId": "14885810046538283826"
     },
     "user_tz": -660
    },
    "id": "8rDizcTqoLW_",
    "outputId": "798097a7-8b9d-4a86-fb54-0e78d4626b8c"
   },
   "outputs": [
    {
     "name": "stdout",
     "output_type": "stream",
     "text": [
      "9667\n"
     ]
    }
   ],
   "source": [
    "l=0\n",
    "for i in range(0,len(sample1_sub)):\n",
    "  if (sample1_sub.iloc[i,2] >= .8):\n",
    "    \n",
    "    l=l+1\n",
    "\n",
    "print(l)\n",
    "  "
   ]
  },
  {
   "cell_type": "code",
   "execution_count": 0,
   "metadata": {
    "colab": {},
    "colab_type": "code",
    "id": "GU7PX79pyaoR"
   },
   "outputs": [],
   "source": [
    "j=0\n",
    "for i in range(0,len(sample2_sub)):\n",
    "  if (sample2_sub.iloc[i,2] >= .8):\n",
    "    \n",
    "    j=j+1\n",
    "\n",
    "print(j)"
   ]
  },
  {
   "cell_type": "code",
   "execution_count": 0,
   "metadata": {
    "colab": {},
    "colab_type": "code",
    "id": "2TkDOi09uyuM"
   },
   "outputs": [],
   "source": [
    "data1 = pd.DataFrame(0, index = np.arange(l) , columns=['text','label'])\n",
    "data2 = pd.DataFrame(0, index = np.arange(j) , columns=['text','label'])\n"
   ]
  },
  {
   "cell_type": "code",
   "execution_count": 0,
   "metadata": {
    "colab": {},
    "colab_type": "code",
    "id": "9n465PYhz8Pg"
   },
   "outputs": [],
   "source": [
    "l=0\n",
    "for i in range(0,len(sample1_sub)):\n",
    "  \n",
    "  if ((sample1_sub.iloc[i,2]) >= .80):\n",
    "    data1.iloc[l,0] = sample1_sub.iloc[i,0]\n",
    "    data1.iloc[l,1] = sample1_sub.iloc[i,1]\n",
    "    l=l+1"
   ]
  },
  {
   "cell_type": "code",
   "execution_count": 0,
   "metadata": {
    "colab": {},
    "colab_type": "code",
    "id": "qZSQqmeM0MZT"
   },
   "outputs": [],
   "source": [
    "j=0\n",
    "for i in range(0,len(sample2_sub)):\n",
    "  \n",
    "  if ((sample2_sub.iloc[i,2]) >= .80):\n",
    "    data2.iloc[j,0] = sample2_sub.iloc[i,0]\n",
    "    data2.iloc[j,1] = sample2_sub.iloc[i,1]\n",
    "    j=j+1\n",
    "    \n",
    "    "
   ]
  },
  {
   "cell_type": "code",
   "execution_count": 0,
   "metadata": {
    "colab": {},
    "colab_type": "code",
    "id": "L1bWL1j3r5Od"
   },
   "outputs": [],
   "source": [
    "# Get data\n",
    "sentiment_labels1 = data1['label'].value_counts().index\n",
    "sentiment_count1 = data1['label'].value_counts()\n"
   ]
  },
  {
   "cell_type": "code",
   "execution_count": 0,
   "metadata": {
    "colab": {},
    "colab_type": "code",
    "id": "ROUDsVWktWy-"
   },
   "outputs": [],
   "source": [
    "# Get data\n",
    "sentiment_labels2 = data2['label'].value_counts().index\n",
    "sentiment_count2 = data2['label'].value_counts()\n"
   ]
  },
  {
   "cell_type": "code",
   "execution_count": null,
   "metadata": {},
   "outputs": [],
   "source": [
    "data1.to_csv('/content/drive/My Drive/Colab Notebooks/result2.csv',index=False)\n",
    "data2.to_csv('/content/drive/My Drive/Colab Notebooks/result2.csv',index=False)\n"
   ]
  },
  {
   "cell_type": "markdown",
   "metadata": {},
   "source": [
    "We faced the issue that the predictions with sample 1 were heavily skewed to the extreme sentiments for higher confidence labels.\n",
    "The second sample could give approx 10K high confidence labels that were evenly distributed for all sentiments.\n",
    "This data was appened to the original labelled dataset and the a new labelled dataset of ~60K Yelp reviews was used to retrain the whole model\n",
    "\n",
    "The appending of data was done in Excel but code has been provided as well in the below steps\n",
    "\n",
    "The new data is named as 'updated_labeled_data' data and the model is retrained in the notebook 2\n"
   ]
  },
  {
   "cell_type": "code",
   "execution_count": null,
   "metadata": {},
   "outputs": [],
   "source": [
    "updated_labeled_data = data\n",
    "updated_labeled_data = updated_labeled_data.append(data2)\n",
    "updated_labeled_data.to_csv('/content/drive/My Drive/Colab Notebooks/updated_labeled_data.csv',index=False)\n"
   ]
  },
  {
   "cell_type": "code",
   "execution_count": 0,
   "metadata": {
    "colab": {},
    "colab_type": "code",
    "id": "gigMkLLTti_a"
   },
   "outputs": [],
   "source": [
    "##############################################################################################################################"
   ]
  },
  {
   "cell_type": "markdown",
   "metadata": {},
   "source": [
    "Reference for code and explanation\n",
    "\n",
    "https://www.kaggle.com/heisenbad/sentiment-analysis-with-transfer-learning\n",
    "\n",
    "https://docs.fast.ai/basic_train.html\n",
    "\n",
    "https://arxiv.org/pdf/1801.06146.pdf\n",
    "\n",
    "    "
   ]
  },
  {
   "cell_type": "code",
   "execution_count": null,
   "metadata": {},
   "outputs": [],
   "source": []
  },
  {
   "cell_type": "code",
   "execution_count": null,
   "metadata": {},
   "outputs": [],
   "source": []
  }
 ],
 "metadata": {
  "accelerator": "GPU",
  "colab": {
   "collapsed_sections": [],
   "name": "2 TransferLearning.ipynb",
   "provenance": []
  },
  "kernelspec": {
   "display_name": "Python 3",
   "language": "python",
   "name": "python3"
  },
  "language_info": {
   "codemirror_mode": {
    "name": "ipython",
    "version": 3
   },
   "file_extension": ".py",
   "mimetype": "text/x-python",
   "name": "python",
   "nbconvert_exporter": "python",
   "pygments_lexer": "ipython3",
   "version": "3.6.5"
  }
 },
 "nbformat": 4,
 "nbformat_minor": 1
}
